{
 "cells": [
  {
   "cell_type": "markdown",
   "metadata": {},
   "source": [
    "# Strategy Optimization and advanced Performance Measurement"
   ]
  },
  {
   "cell_type": "markdown",
   "metadata": {},
   "source": [
    "## Getting started"
   ]
  },
  {
   "cell_type": "code",
   "execution_count": 1,
   "metadata": {},
   "outputs": [],
   "source": [
    "import pandas as pd\n",
    "import numpy as np\n",
    "import matplotlib.pyplot as plt\n",
    "plt.style.use(\"seaborn-v0_8\")"
   ]
  },
  {
   "cell_type": "code",
   "execution_count": 2,
   "metadata": {},
   "outputs": [
    {
     "data": {
      "text/html": [
       "<div>\n",
       "<style scoped>\n",
       "    .dataframe tbody tr th:only-of-type {\n",
       "        vertical-align: middle;\n",
       "    }\n",
       "\n",
       "    .dataframe tbody tr th {\n",
       "        vertical-align: top;\n",
       "    }\n",
       "\n",
       "    .dataframe thead th {\n",
       "        text-align: right;\n",
       "    }\n",
       "</style>\n",
       "<table border=\"1\" class=\"dataframe\">\n",
       "  <thead>\n",
       "    <tr style=\"text-align: right;\">\n",
       "      <th></th>\n",
       "      <th>EURUSD</th>\n",
       "    </tr>\n",
       "    <tr>\n",
       "      <th>time</th>\n",
       "      <th></th>\n",
       "    </tr>\n",
       "  </thead>\n",
       "  <tbody>\n",
       "    <tr>\n",
       "      <th>2018-01-01 22:00:00+00:00</th>\n",
       "      <td>1.201205</td>\n",
       "    </tr>\n",
       "    <tr>\n",
       "      <th>2018-01-02 04:00:00+00:00</th>\n",
       "      <td>1.207055</td>\n",
       "    </tr>\n",
       "    <tr>\n",
       "      <th>2018-01-02 10:00:00+00:00</th>\n",
       "      <td>1.204440</td>\n",
       "    </tr>\n",
       "    <tr>\n",
       "      <th>2018-01-02 16:00:00+00:00</th>\n",
       "      <td>1.205800</td>\n",
       "    </tr>\n",
       "    <tr>\n",
       "      <th>2018-01-02 22:00:00+00:00</th>\n",
       "      <td>1.204690</td>\n",
       "    </tr>\n",
       "    <tr>\n",
       "      <th>...</th>\n",
       "      <td>...</td>\n",
       "    </tr>\n",
       "    <tr>\n",
       "      <th>2019-12-29 22:00:00+00:00</th>\n",
       "      <td>1.119920</td>\n",
       "    </tr>\n",
       "    <tr>\n",
       "      <th>2019-12-30 04:00:00+00:00</th>\n",
       "      <td>1.119940</td>\n",
       "    </tr>\n",
       "    <tr>\n",
       "      <th>2019-12-30 10:00:00+00:00</th>\n",
       "      <td>1.120095</td>\n",
       "    </tr>\n",
       "    <tr>\n",
       "      <th>2019-12-30 16:00:00+00:00</th>\n",
       "      <td>1.119920</td>\n",
       "    </tr>\n",
       "    <tr>\n",
       "      <th>2019-12-30 22:00:00+00:00</th>\n",
       "      <td>1.120355</td>\n",
       "    </tr>\n",
       "  </tbody>\n",
       "</table>\n",
       "<p>2070 rows × 1 columns</p>\n",
       "</div>"
      ],
      "text/plain": [
       "                             EURUSD\n",
       "time                               \n",
       "2018-01-01 22:00:00+00:00  1.201205\n",
       "2018-01-02 04:00:00+00:00  1.207055\n",
       "2018-01-02 10:00:00+00:00  1.204440\n",
       "2018-01-02 16:00:00+00:00  1.205800\n",
       "2018-01-02 22:00:00+00:00  1.204690\n",
       "...                             ...\n",
       "2019-12-29 22:00:00+00:00  1.119920\n",
       "2019-12-30 04:00:00+00:00  1.119940\n",
       "2019-12-30 10:00:00+00:00  1.120095\n",
       "2019-12-30 16:00:00+00:00  1.119920\n",
       "2019-12-30 22:00:00+00:00  1.120355\n",
       "\n",
       "[2070 rows x 1 columns]"
      ]
     },
     "execution_count": 2,
     "metadata": {},
     "output_type": "execute_result"
    }
   ],
   "source": [
    "df = pd.read_csv(\"../Data/intraday.csv\", parse_dates = [\"time\"], index_col = \"time\")\n",
    "df\n",
    "\n",
    "# EURUSD price history with frequency of 6h"
   ]
  },
  {
   "cell_type": "code",
   "execution_count": 7,
   "metadata": {},
   "outputs": [],
   "source": [
    "# Version 1.0\n",
    "class ConBacktester():\n",
    "    ''' Class for the vectorized backtesting of simple contrarian trading strategies.\n",
    "    \n",
    "    Attributes\n",
    "    ============\n",
    "    filepath: str\n",
    "        local filepath of the dataset (csv-file)\n",
    "    symbol: str\n",
    "        ticker symbol (instrument) to be backtested\n",
    "    start: str\n",
    "        start date for data import\n",
    "    end: str\n",
    "        end date for data import\n",
    "    tc: float\n",
    "        proportional trading costs per trade\n",
    "    \n",
    "    \n",
    "    Methods\n",
    "    =======\n",
    "    get_data:\n",
    "        imports the data.\n",
    "        \n",
    "    test_strategy:\n",
    "        prepares the data and backtests the trading strategy incl. reporting (wrapper).\n",
    "        \n",
    "    prepare_data:\n",
    "        prepares the data for backtesting.\n",
    "    \n",
    "    run_backtest:\n",
    "        runs the strategy backtest.\n",
    "        \n",
    "    plot_results:\n",
    "        plots the cumulative performance of the trading strategy compared to buy-and-hold.\n",
    "    '''    \n",
    "    \n",
    "    def __init__(self, filepath, symbol, start, end, tc):\n",
    "        \n",
    "        self.filepath = filepath\n",
    "        self.symbol = symbol\n",
    "        self.start = start\n",
    "        self.end = end\n",
    "        self.tc = tc\n",
    "        self.results = None\n",
    "        self.get_data()\n",
    "        \n",
    "    def __repr__(self):\n",
    "        return \"ConBacktester(symbol = {}, start = {}, end = {})\".format(self.symbol, self.start, self.end)\n",
    "        \n",
    "    def get_data(self):\n",
    "        ''' Imports the data.\n",
    "        '''\n",
    "        raw = pd.read_csv(self.filepath, parse_dates = [\"time\"], index_col = \"time\")\n",
    "        raw = raw[self.symbol].to_frame().fillna(method = \"ffill\")\n",
    "        raw = raw.loc[self.start:self.end].copy()\n",
    "        raw.rename(columns={self.symbol: \"price\"}, inplace=True)\n",
    "        raw[\"returns\"] = np.log(raw.price / raw.price.shift(1))\n",
    "        self.data = raw\n",
    "        \n",
    "    def test_strategy(self, window = 1):\n",
    "        '''\n",
    "        Prepares the data and backtests the trading strategy incl. reporting (Wrapper).\n",
    "         \n",
    "        Parameters\n",
    "        ============\n",
    "        window: int\n",
    "            time window (number of bars) to be considered for the strategy.\n",
    "        '''\n",
    "        self.window = window\n",
    "                                \n",
    "        self.prepare_data(window)\n",
    "        self.run_backtest()\n",
    "        \n",
    "        data = self.results.copy()\n",
    "        data[\"creturns\"] = data[\"returns\"].cumsum().apply(np.exp)\n",
    "        data[\"cstrategy\"] = data[\"strategy\"].cumsum().apply(np.exp)\n",
    "        self.results = data\n",
    "        \n",
    "        multiple = round(self.results.cstrategy[-1], 6)\n",
    "        print(\"Strategy-Multiple: {}\".format(multiple))\n",
    "    \n",
    "    def prepare_data(self, window):\n",
    "        \n",
    "        ''' Prepares the Data for Backtesting.\n",
    "        '''\n",
    "        data = self.data.copy()\n",
    "        data[\"roll_return\"] = data[\"returns\"].rolling(window).mean()\n",
    "        data[\"position\"] = -np.sign(data[\"roll_return\"])\n",
    "        self.results = data\n",
    "    \n",
    "    def run_backtest(self):\n",
    "        ''' Runs the strategy backtest.\n",
    "        '''\n",
    "        \n",
    "        data = self.results.copy()\n",
    "        data[\"strategy\"] = data[\"position\"].shift(1) * data[\"returns\"]\n",
    "        data.dropna(inplace=True)\n",
    "        \n",
    "        # determine the number of trades in each bar\n",
    "        data[\"trades\"] = data.position.diff().fillna(0).abs()\n",
    "        \n",
    "        # subtract transaction/trading costs from pre-cost return\n",
    "        data.strategy = data.strategy - data.trades * self.tc\n",
    "        \n",
    "        self.results = data\n",
    "    \n",
    "    def plot_results(self):\n",
    "        '''  Plots the cumulative performance of the trading strategy compared to buy-and-hold.\n",
    "        '''\n",
    "        if self.results is None:\n",
    "            print(\"Run test_strategy() first.\")\n",
    "        else:\n",
    "            title = \"{} | Window = {} | TC = {}\".format(self.symbol, self.window, self.tc)\n",
    "            self.results[[\"creturns\", \"cstrategy\"]].plot(title=title, figsize=(12, 8))"
   ]
  },
  {
   "cell_type": "code",
   "execution_count": 8,
   "metadata": {},
   "outputs": [],
   "source": [
    "symbol = \"EURUSD\"\n",
    "start = \"2018-01-01\"\n",
    "end = \"2019-12-31\"\n",
    "tc = 0.00007"
   ]
  },
  {
   "cell_type": "code",
   "execution_count": 9,
   "metadata": {},
   "outputs": [
    {
     "name": "stderr",
     "output_type": "stream",
     "text": [
      "C:\\Users\\97250\\AppData\\Local\\Temp\\ipykernel_29064\\1325224725.py:54: FutureWarning: DataFrame.fillna with 'method' is deprecated and will raise in a future version. Use obj.ffill() or obj.bfill() instead.\n",
      "  raw = raw[self.symbol].to_frame().fillna(method = \"ffill\")\n"
     ]
    },
    {
     "data": {
      "text/plain": [
       "ConBacktester(symbol = EURUSD, start = 2018-01-01, end = 2019-12-31)"
      ]
     },
     "execution_count": 9,
     "metadata": {},
     "output_type": "execute_result"
    }
   ],
   "source": [
    "tester = ConBacktester(filepath= \"../Data/intraday.csv\", symbol = symbol, start = start, end = end, tc = tc)\n",
    "tester"
   ]
  },
  {
   "cell_type": "code",
   "execution_count": 10,
   "metadata": {},
   "outputs": [
    {
     "name": "stdout",
     "output_type": "stream",
     "text": [
      "Strategy-Multiple: 1.018994\n"
     ]
    },
    {
     "name": "stderr",
     "output_type": "stream",
     "text": [
      "C:\\Users\\97250\\AppData\\Local\\Temp\\ipykernel_29064\\1325224725.py:79: FutureWarning: Series.__getitem__ treating keys as positions is deprecated. In a future version, integer keys will always be treated as labels (consistent with DataFrame behavior). To access a value by position, use `ser.iloc[pos]`\n",
      "  multiple = round(self.results.cstrategy[-1], 6)\n"
     ]
    }
   ],
   "source": [
    "# Run the contrarian strategy\n",
    "tester.test_strategy(window = 3)"
   ]
  },
  {
   "cell_type": "code",
   "execution_count": 11,
   "metadata": {},
   "outputs": [
    {
     "name": "stderr",
     "output_type": "stream",
     "text": [
      "C:\\Users\\97250\\AppData\\Local\\Temp\\ipykernel_29064\\3110447021.py:1: FutureWarning: Series.__getitem__ treating keys as positions is deprecated. In a future version, integer keys will always be treated as labels (consistent with DataFrame behavior). To access a value by position, use `ser.iloc[pos]`\n",
      "  tester.results.cstrategy[-1]\n"
     ]
    },
    {
     "data": {
      "text/plain": [
       "1.0189942251079513"
      ]
     },
     "execution_count": 11,
     "metadata": {},
     "output_type": "execute_result"
    }
   ],
   "source": [
    "tester.results.cstrategy[-1]"
   ]
  },
  {
   "cell_type": "markdown",
   "metadata": {},
   "source": [
    "---"
   ]
  },
  {
   "cell_type": "markdown",
   "metadata": {},
   "source": [
    "# Finding the optimal  value for the \"window\" Parameter "
   ]
  },
  {
   "cell_type": "markdown",
   "metadata": {},
   "source": [
    "__Plan: Backtest all Strategies from window == 1 to window == 1000__"
   ]
  },
  {
   "cell_type": "code",
   "execution_count": 12,
   "metadata": {},
   "outputs": [
    {
     "data": {
      "text/plain": [
       "(1, 1001, 1)"
      ]
     },
     "execution_count": 12,
     "metadata": {},
     "output_type": "execute_result"
    }
   ],
   "source": [
    "window_range = (1, 1001, 1) # tuple of the form (start, stop, step size)\n",
    "window_range "
   ]
  },
  {
   "cell_type": "code",
   "execution_count": 13,
   "metadata": {
    "scrolled": true
   },
   "outputs": [
    {
     "data": {
      "text/plain": [
       "range(1, 1001)"
      ]
     },
     "execution_count": 13,
     "metadata": {},
     "output_type": "execute_result"
    }
   ],
   "source": [
    "windows = range(*window_range) # unpack the tuple and create a range object\n",
    "windows"
   ]
  },
  {
   "cell_type": "code",
   "execution_count": 14,
   "metadata": {},
   "outputs": [
    {
     "data": {
      "text/plain": [
       "ConBacktester(symbol = EURUSD, start = 2018-01-01, end = 2019-12-31)"
      ]
     },
     "execution_count": 14,
     "metadata": {},
     "output_type": "execute_result"
    }
   ],
   "source": [
    "tester"
   ]
  },
  {
   "cell_type": "code",
   "execution_count": 15,
   "metadata": {},
   "outputs": [],
   "source": [
    "performance = []\n",
    "for window in windows:\n",
    "    tester.prepare_data(window) # prepate data -> window\n",
    "    tester.run_backtest() # backtest strategy\n",
    "    performance.append(np.exp(tester.results.strategy.sum())) # calculate and store the mulitple"
   ]
  },
  {
   "cell_type": "code",
   "execution_count": 17,
   "metadata": {},
   "outputs": [
    {
     "data": {
      "text/plain": [
       "[0.963517236968365,\n",
       " 0.9486395510353979,\n",
       " 1.0189942251079516,\n",
       " 0.8246643870440433,\n",
       " 0.8594966694410051,\n",
       " 0.9135118040559647,\n",
       " 0.8847172753359587,\n",
       " 0.9177288020041016,\n",
       " 0.8849334916713126,\n",
       " 0.9164141701100121]"
      ]
     },
     "execution_count": 17,
     "metadata": {},
     "output_type": "execute_result"
    }
   ],
   "source": [
    "# 1000 different multiple for different 1,2,3,...,1000 windows.\n",
    "performance[:10]"
   ]
  },
  {
   "cell_type": "code",
   "execution_count": 18,
   "metadata": {},
   "outputs": [
    {
     "data": {
      "text/plain": [
       "1000"
      ]
     },
     "execution_count": 18,
     "metadata": {},
     "output_type": "execute_result"
    }
   ],
   "source": [
    "len(performance)"
   ]
  },
  {
   "cell_type": "code",
   "execution_count": 20,
   "metadata": {},
   "outputs": [
    {
     "data": {
      "text/html": [
       "<div>\n",
       "<style scoped>\n",
       "    .dataframe tbody tr th:only-of-type {\n",
       "        vertical-align: middle;\n",
       "    }\n",
       "\n",
       "    .dataframe tbody tr th {\n",
       "        vertical-align: top;\n",
       "    }\n",
       "\n",
       "    .dataframe thead th {\n",
       "        text-align: right;\n",
       "    }\n",
       "</style>\n",
       "<table border=\"1\" class=\"dataframe\">\n",
       "  <thead>\n",
       "    <tr style=\"text-align: right;\">\n",
       "      <th></th>\n",
       "      <th>Windows</th>\n",
       "    </tr>\n",
       "  </thead>\n",
       "  <tbody>\n",
       "    <tr>\n",
       "      <th>0</th>\n",
       "      <td>1</td>\n",
       "    </tr>\n",
       "    <tr>\n",
       "      <th>1</th>\n",
       "      <td>2</td>\n",
       "    </tr>\n",
       "    <tr>\n",
       "      <th>2</th>\n",
       "      <td>3</td>\n",
       "    </tr>\n",
       "    <tr>\n",
       "      <th>3</th>\n",
       "      <td>4</td>\n",
       "    </tr>\n",
       "    <tr>\n",
       "      <th>4</th>\n",
       "      <td>5</td>\n",
       "    </tr>\n",
       "    <tr>\n",
       "      <th>...</th>\n",
       "      <td>...</td>\n",
       "    </tr>\n",
       "    <tr>\n",
       "      <th>995</th>\n",
       "      <td>996</td>\n",
       "    </tr>\n",
       "    <tr>\n",
       "      <th>996</th>\n",
       "      <td>997</td>\n",
       "    </tr>\n",
       "    <tr>\n",
       "      <th>997</th>\n",
       "      <td>998</td>\n",
       "    </tr>\n",
       "    <tr>\n",
       "      <th>998</th>\n",
       "      <td>999</td>\n",
       "    </tr>\n",
       "    <tr>\n",
       "      <th>999</th>\n",
       "      <td>1000</td>\n",
       "    </tr>\n",
       "  </tbody>\n",
       "</table>\n",
       "<p>1000 rows × 1 columns</p>\n",
       "</div>"
      ],
      "text/plain": [
       "     Windows\n",
       "0          1\n",
       "1          2\n",
       "2          3\n",
       "3          4\n",
       "4          5\n",
       "..       ...\n",
       "995      996\n",
       "996      997\n",
       "997      998\n",
       "998      999\n",
       "999     1000\n",
       "\n",
       "[1000 rows x 1 columns]"
      ]
     },
     "execution_count": 20,
     "metadata": {},
     "output_type": "execute_result"
    }
   ],
   "source": [
    "results_overview =  pd.DataFrame(data = np.array(windows), columns = [\"Windows\"])\n",
    "results_overview"
   ]
  },
  {
   "cell_type": "code",
   "execution_count": 21,
   "metadata": {},
   "outputs": [
    {
     "data": {
      "text/html": [
       "<div>\n",
       "<style scoped>\n",
       "    .dataframe tbody tr th:only-of-type {\n",
       "        vertical-align: middle;\n",
       "    }\n",
       "\n",
       "    .dataframe tbody tr th {\n",
       "        vertical-align: top;\n",
       "    }\n",
       "\n",
       "    .dataframe thead th {\n",
       "        text-align: right;\n",
       "    }\n",
       "</style>\n",
       "<table border=\"1\" class=\"dataframe\">\n",
       "  <thead>\n",
       "    <tr style=\"text-align: right;\">\n",
       "      <th></th>\n",
       "      <th>Windows</th>\n",
       "      <th>Performance</th>\n",
       "    </tr>\n",
       "  </thead>\n",
       "  <tbody>\n",
       "    <tr>\n",
       "      <th>0</th>\n",
       "      <td>1</td>\n",
       "      <td>0.963517</td>\n",
       "    </tr>\n",
       "    <tr>\n",
       "      <th>1</th>\n",
       "      <td>2</td>\n",
       "      <td>0.948640</td>\n",
       "    </tr>\n",
       "    <tr>\n",
       "      <th>2</th>\n",
       "      <td>3</td>\n",
       "      <td>1.018994</td>\n",
       "    </tr>\n",
       "    <tr>\n",
       "      <th>3</th>\n",
       "      <td>4</td>\n",
       "      <td>0.824664</td>\n",
       "    </tr>\n",
       "    <tr>\n",
       "      <th>4</th>\n",
       "      <td>5</td>\n",
       "      <td>0.859497</td>\n",
       "    </tr>\n",
       "    <tr>\n",
       "      <th>...</th>\n",
       "      <td>...</td>\n",
       "      <td>...</td>\n",
       "    </tr>\n",
       "    <tr>\n",
       "      <th>995</th>\n",
       "      <td>996</td>\n",
       "      <td>0.990562</td>\n",
       "    </tr>\n",
       "    <tr>\n",
       "      <th>996</th>\n",
       "      <td>997</td>\n",
       "      <td>0.988896</td>\n",
       "    </tr>\n",
       "    <tr>\n",
       "      <th>997</th>\n",
       "      <td>998</td>\n",
       "      <td>0.988303</td>\n",
       "    </tr>\n",
       "    <tr>\n",
       "      <th>998</th>\n",
       "      <td>999</td>\n",
       "      <td>0.987310</td>\n",
       "    </tr>\n",
       "    <tr>\n",
       "      <th>999</th>\n",
       "      <td>1000</td>\n",
       "      <td>0.986697</td>\n",
       "    </tr>\n",
       "  </tbody>\n",
       "</table>\n",
       "<p>1000 rows × 2 columns</p>\n",
       "</div>"
      ],
      "text/plain": [
       "     Windows  Performance\n",
       "0          1     0.963517\n",
       "1          2     0.948640\n",
       "2          3     1.018994\n",
       "3          4     0.824664\n",
       "4          5     0.859497\n",
       "..       ...          ...\n",
       "995      996     0.990562\n",
       "996      997     0.988896\n",
       "997      998     0.988303\n",
       "998      999     0.987310\n",
       "999     1000     0.986697\n",
       "\n",
       "[1000 rows x 2 columns]"
      ]
     },
     "execution_count": 21,
     "metadata": {},
     "output_type": "execute_result"
    }
   ],
   "source": [
    "results_overview[\"Performance\"] = performance\n",
    "results_overview"
   ]
  },
  {
   "cell_type": "code",
   "execution_count": 22,
   "metadata": {},
   "outputs": [
    {
     "data": {
      "text/html": [
       "<div>\n",
       "<style scoped>\n",
       "    .dataframe tbody tr th:only-of-type {\n",
       "        vertical-align: middle;\n",
       "    }\n",
       "\n",
       "    .dataframe tbody tr th {\n",
       "        vertical-align: top;\n",
       "    }\n",
       "\n",
       "    .dataframe thead th {\n",
       "        text-align: right;\n",
       "    }\n",
       "</style>\n",
       "<table border=\"1\" class=\"dataframe\">\n",
       "  <thead>\n",
       "    <tr style=\"text-align: right;\">\n",
       "      <th></th>\n",
       "      <th>Windows</th>\n",
       "      <th>Performance</th>\n",
       "    </tr>\n",
       "  </thead>\n",
       "  <tbody>\n",
       "    <tr>\n",
       "      <th>50</th>\n",
       "      <td>51</td>\n",
       "      <td>1.262038</td>\n",
       "    </tr>\n",
       "    <tr>\n",
       "      <th>43</th>\n",
       "      <td>44</td>\n",
       "      <td>1.260746</td>\n",
       "    </tr>\n",
       "    <tr>\n",
       "      <th>49</th>\n",
       "      <td>50</td>\n",
       "      <td>1.238808</td>\n",
       "    </tr>\n",
       "    <tr>\n",
       "      <th>54</th>\n",
       "      <td>55</td>\n",
       "      <td>1.235083</td>\n",
       "    </tr>\n",
       "    <tr>\n",
       "      <th>53</th>\n",
       "      <td>54</td>\n",
       "      <td>1.234555</td>\n",
       "    </tr>\n",
       "    <tr>\n",
       "      <th>...</th>\n",
       "      <td>...</td>\n",
       "      <td>...</td>\n",
       "    </tr>\n",
       "    <tr>\n",
       "      <th>10</th>\n",
       "      <td>11</td>\n",
       "      <td>0.895513</td>\n",
       "    </tr>\n",
       "    <tr>\n",
       "      <th>8</th>\n",
       "      <td>9</td>\n",
       "      <td>0.884933</td>\n",
       "    </tr>\n",
       "    <tr>\n",
       "      <th>6</th>\n",
       "      <td>7</td>\n",
       "      <td>0.884717</td>\n",
       "    </tr>\n",
       "    <tr>\n",
       "      <th>4</th>\n",
       "      <td>5</td>\n",
       "      <td>0.859497</td>\n",
       "    </tr>\n",
       "    <tr>\n",
       "      <th>3</th>\n",
       "      <td>4</td>\n",
       "      <td>0.824664</td>\n",
       "    </tr>\n",
       "  </tbody>\n",
       "</table>\n",
       "<p>1000 rows × 2 columns</p>\n",
       "</div>"
      ],
      "text/plain": [
       "    Windows  Performance\n",
       "50       51     1.262038\n",
       "43       44     1.260746\n",
       "49       50     1.238808\n",
       "54       55     1.235083\n",
       "53       54     1.234555\n",
       "..      ...          ...\n",
       "10       11     0.895513\n",
       "8         9     0.884933\n",
       "6         7     0.884717\n",
       "4         5     0.859497\n",
       "3         4     0.824664\n",
       "\n",
       "[1000 rows x 2 columns]"
      ]
     },
     "execution_count": 22,
     "metadata": {},
     "output_type": "execute_result"
    }
   ],
   "source": [
    "# Which is the best? \n",
    "results_overview.sort_values(by = \"Performance\", ascending = False)"
   ]
  },
  {
   "cell_type": "code",
   "execution_count": 23,
   "metadata": {},
   "outputs": [
    {
     "data": {
      "text/html": [
       "<div>\n",
       "<style scoped>\n",
       "    .dataframe tbody tr th:only-of-type {\n",
       "        vertical-align: middle;\n",
       "    }\n",
       "\n",
       "    .dataframe tbody tr th {\n",
       "        vertical-align: top;\n",
       "    }\n",
       "\n",
       "    .dataframe thead th {\n",
       "        text-align: right;\n",
       "    }\n",
       "</style>\n",
       "<table border=\"1\" class=\"dataframe\">\n",
       "  <thead>\n",
       "    <tr style=\"text-align: right;\">\n",
       "      <th></th>\n",
       "      <th>Windows</th>\n",
       "      <th>Performance</th>\n",
       "    </tr>\n",
       "  </thead>\n",
       "  <tbody>\n",
       "    <tr>\n",
       "      <th>50</th>\n",
       "      <td>51</td>\n",
       "      <td>1.262038</td>\n",
       "    </tr>\n",
       "  </tbody>\n",
       "</table>\n",
       "</div>"
      ],
      "text/plain": [
       "    Windows  Performance\n",
       "50       51     1.262038"
      ]
     },
     "execution_count": 23,
     "metadata": {},
     "output_type": "execute_result"
    }
   ],
   "source": [
    "# The best windows for contrarian is windows size of 50  \n",
    "best = results_overview.nlargest(1, \"Performance\")\n",
    "best"
   ]
  },
  {
   "cell_type": "code",
   "execution_count": 24,
   "metadata": {},
   "outputs": [
    {
     "name": "stdout",
     "output_type": "stream",
     "text": [
      "Windows: 51 | Multiple: 1.262038\n"
     ]
    }
   ],
   "source": [
    "window = best.Windows.iloc[0]\n",
    "perf = best.Performance.iloc[0]\n",
    "print(\"Windows: {} | Multiple: {}\".format(window, round(perf, 6)))\n",
    "\n",
    "# Multiple: 1.262038 -> for each 1$ we make 1.26$"
   ]
  },
  {
   "cell_type": "markdown",
   "metadata": {},
   "source": [
    "---"
   ]
  },
  {
   "cell_type": "markdown",
   "metadata": {},
   "source": [
    "# Relationship between the \"window\" Parameter and Performance"
   ]
  },
  {
   "cell_type": "code",
   "execution_count": 25,
   "metadata": {},
   "outputs": [
    {
     "data": {
      "text/html": [
       "<div>\n",
       "<style scoped>\n",
       "    .dataframe tbody tr th:only-of-type {\n",
       "        vertical-align: middle;\n",
       "    }\n",
       "\n",
       "    .dataframe tbody tr th {\n",
       "        vertical-align: top;\n",
       "    }\n",
       "\n",
       "    .dataframe thead th {\n",
       "        text-align: right;\n",
       "    }\n",
       "</style>\n",
       "<table border=\"1\" class=\"dataframe\">\n",
       "  <thead>\n",
       "    <tr style=\"text-align: right;\">\n",
       "      <th></th>\n",
       "      <th>Windows</th>\n",
       "      <th>Performance</th>\n",
       "    </tr>\n",
       "  </thead>\n",
       "  <tbody>\n",
       "    <tr>\n",
       "      <th>50</th>\n",
       "      <td>51</td>\n",
       "      <td>1.262038</td>\n",
       "    </tr>\n",
       "    <tr>\n",
       "      <th>43</th>\n",
       "      <td>44</td>\n",
       "      <td>1.260746</td>\n",
       "    </tr>\n",
       "    <tr>\n",
       "      <th>49</th>\n",
       "      <td>50</td>\n",
       "      <td>1.238808</td>\n",
       "    </tr>\n",
       "    <tr>\n",
       "      <th>54</th>\n",
       "      <td>55</td>\n",
       "      <td>1.235083</td>\n",
       "    </tr>\n",
       "    <tr>\n",
       "      <th>53</th>\n",
       "      <td>54</td>\n",
       "      <td>1.234555</td>\n",
       "    </tr>\n",
       "    <tr>\n",
       "      <th>...</th>\n",
       "      <td>...</td>\n",
       "      <td>...</td>\n",
       "    </tr>\n",
       "    <tr>\n",
       "      <th>10</th>\n",
       "      <td>11</td>\n",
       "      <td>0.895513</td>\n",
       "    </tr>\n",
       "    <tr>\n",
       "      <th>8</th>\n",
       "      <td>9</td>\n",
       "      <td>0.884933</td>\n",
       "    </tr>\n",
       "    <tr>\n",
       "      <th>6</th>\n",
       "      <td>7</td>\n",
       "      <td>0.884717</td>\n",
       "    </tr>\n",
       "    <tr>\n",
       "      <th>4</th>\n",
       "      <td>5</td>\n",
       "      <td>0.859497</td>\n",
       "    </tr>\n",
       "    <tr>\n",
       "      <th>3</th>\n",
       "      <td>4</td>\n",
       "      <td>0.824664</td>\n",
       "    </tr>\n",
       "  </tbody>\n",
       "</table>\n",
       "<p>1000 rows × 2 columns</p>\n",
       "</div>"
      ],
      "text/plain": [
       "    Windows  Performance\n",
       "50       51     1.262038\n",
       "43       44     1.260746\n",
       "49       50     1.238808\n",
       "54       55     1.235083\n",
       "53       54     1.234555\n",
       "..      ...          ...\n",
       "10       11     0.895513\n",
       "8         9     0.884933\n",
       "6         7     0.884717\n",
       "4         5     0.859497\n",
       "3         4     0.824664\n",
       "\n",
       "[1000 rows x 2 columns]"
      ]
     },
     "execution_count": 25,
     "metadata": {},
     "output_type": "execute_result"
    }
   ],
   "source": [
    "results_overview.sort_values(by = \"Performance\", ascending = False)"
   ]
  },
  {
   "cell_type": "markdown",
   "metadata": {},
   "source": [
    "Window == 51 is the best performing strategy (in the past). __How reliable is that (for the future)__?"
   ]
  },
  {
   "cell_type": "markdown",
   "metadata": {},
   "source": [
    "Is this __just by chance (random noise)__...<br>\n",
    "...or is there a systematic (functional) __relationship between the window parameter and the performance__ (desirable)?"
   ]
  },
  {
   "cell_type": "code",
   "execution_count": 26,
   "metadata": {},
   "outputs": [
    {
     "data": {
      "text/html": [
       "<div>\n",
       "<style scoped>\n",
       "    .dataframe tbody tr th:only-of-type {\n",
       "        vertical-align: middle;\n",
       "    }\n",
       "\n",
       "    .dataframe tbody tr th {\n",
       "        vertical-align: top;\n",
       "    }\n",
       "\n",
       "    .dataframe thead th {\n",
       "        text-align: right;\n",
       "    }\n",
       "</style>\n",
       "<table border=\"1\" class=\"dataframe\">\n",
       "  <thead>\n",
       "    <tr style=\"text-align: right;\">\n",
       "      <th></th>\n",
       "      <th>Performance</th>\n",
       "    </tr>\n",
       "    <tr>\n",
       "      <th>Windows</th>\n",
       "      <th></th>\n",
       "    </tr>\n",
       "  </thead>\n",
       "  <tbody>\n",
       "    <tr>\n",
       "      <th>1</th>\n",
       "      <td>0.963517</td>\n",
       "    </tr>\n",
       "    <tr>\n",
       "      <th>2</th>\n",
       "      <td>0.948640</td>\n",
       "    </tr>\n",
       "    <tr>\n",
       "      <th>3</th>\n",
       "      <td>1.018994</td>\n",
       "    </tr>\n",
       "    <tr>\n",
       "      <th>4</th>\n",
       "      <td>0.824664</td>\n",
       "    </tr>\n",
       "    <tr>\n",
       "      <th>5</th>\n",
       "      <td>0.859497</td>\n",
       "    </tr>\n",
       "    <tr>\n",
       "      <th>...</th>\n",
       "      <td>...</td>\n",
       "    </tr>\n",
       "    <tr>\n",
       "      <th>996</th>\n",
       "      <td>0.990562</td>\n",
       "    </tr>\n",
       "    <tr>\n",
       "      <th>997</th>\n",
       "      <td>0.988896</td>\n",
       "    </tr>\n",
       "    <tr>\n",
       "      <th>998</th>\n",
       "      <td>0.988303</td>\n",
       "    </tr>\n",
       "    <tr>\n",
       "      <th>999</th>\n",
       "      <td>0.987310</td>\n",
       "    </tr>\n",
       "    <tr>\n",
       "      <th>1000</th>\n",
       "      <td>0.986697</td>\n",
       "    </tr>\n",
       "  </tbody>\n",
       "</table>\n",
       "<p>1000 rows × 1 columns</p>\n",
       "</div>"
      ],
      "text/plain": [
       "         Performance\n",
       "Windows             \n",
       "1           0.963517\n",
       "2           0.948640\n",
       "3           1.018994\n",
       "4           0.824664\n",
       "5           0.859497\n",
       "...              ...\n",
       "996         0.990562\n",
       "997         0.988896\n",
       "998         0.988303\n",
       "999         0.987310\n",
       "1000        0.986697\n",
       "\n",
       "[1000 rows x 1 columns]"
      ]
     },
     "execution_count": 26,
     "metadata": {},
     "output_type": "execute_result"
    }
   ],
   "source": [
    "results_overview.set_index(\"Windows\", inplace = True)\n",
    "results_overview"
   ]
  },
  {
   "cell_type": "markdown",
   "metadata": {},
   "source": [
    "__Plot the windows range and their performance (multiple)__"
   ]
  },
  {
   "cell_type": "code",
   "execution_count": 27,
   "metadata": {},
   "outputs": [
    {
     "data": {
      "image/png": "[encoded data removed]",
      "text/plain": [
       "<Figure size 1200x800 with 1 Axes>"
      ]
     },
     "metadata": {},
     "output_type": "display_data"
    }
   ],
   "source": [
    "results_overview.plot(figsize = (12, 8))\n",
    "plt.title(\"Simple Contrarian Strategy | Performance vs Windows\", fontsize = 15)\n",
    "plt.xlabel(\"Windows\", fontsize = 15)\n",
    "plt.ylabel(\"Multiple\", fontsize = 15)\n",
    "plt.show()"
   ]
  },
  {
   "cell_type": "markdown",
   "metadata": {},
   "source": [
    "---"
   ]
  },
  {
   "cell_type": "markdown",
   "metadata": {},
   "source": [
    "# Updating the ConBacktester Class (Optimization)"
   ]
  },
  {
   "cell_type": "code",
   "execution_count": 28,
   "metadata": {},
   "outputs": [],
   "source": [
    "import pandas as pd\n",
    "import numpy as np\n",
    "import matplotlib.pyplot as plt\n",
    "plt.style.use(\"seaborn-v0_8\")"
   ]
  },
  {
   "cell_type": "code",
   "execution_count": 29,
   "metadata": {},
   "outputs": [],
   "source": [
    "# Version 2.0 (Window Optimization)\n",
    "\n",
    "class ConBacktester():\n",
    "    ''' Class for the vectorized backtesting of simple contrarian trading strategies.\n",
    "    \n",
    "    Attributes\n",
    "    ============\n",
    "    filepath: str\n",
    "        local filepath of the dataset (csv-file)\n",
    "    symbol: str\n",
    "        ticker symbol (instrument) to be backtested\n",
    "    start: str\n",
    "        start date for data import\n",
    "    end: str\n",
    "        end date for data import\n",
    "    tc: float\n",
    "        proportional trading costs per trade\n",
    "    \n",
    "    \n",
    "    Methods\n",
    "    =======\n",
    "    get_data:\n",
    "        imports the data.\n",
    "        \n",
    "    test_strategy:\n",
    "        prepares the data and backtests the trading strategy incl. reporting (wrapper).\n",
    "        \n",
    "    prepare_data:\n",
    "        prepares the data for backtesting.\n",
    "    \n",
    "    run_backtest:\n",
    "        runs the strategy backtest.\n",
    "        \n",
    "    plot_results:\n",
    "        plots the cumulative performance of the trading strategy compared to buy-and-hold.\n",
    "        \n",
    "    optimize_strategy:\n",
    "        backtests strategy for different parameter values incl. optimization and reporting (wrapper).\n",
    "    \n",
    "    find_best_strategy:\n",
    "        finds the optimal strategy (global maximum) given the window parameter range.\n",
    "        \n",
    "    visualize_many:\n",
    "        plots parameter values vs. performance. \n",
    "    '''    \n",
    "    \n",
    "    def __init__(self, filepath, symbol, start, end, tc):\n",
    "        \n",
    "        self.filepath = filepath\n",
    "        self.symbol = symbol\n",
    "        self.start = start\n",
    "        self.end = end\n",
    "        self.tc = tc\n",
    "        self.results = None\n",
    "        self.get_data()\n",
    "        \n",
    "    def __repr__(self):\n",
    "        return \"ConBacktester(symbol = {}, start = {}, end = {})\".format(self.symbol, self.start, self.end)\n",
    "        \n",
    "    def get_data(self):\n",
    "        ''' Imports the data.\n",
    "        '''\n",
    "        raw = pd.read_csv(self.filepath, parse_dates = [\"time\"], index_col = \"time\")\n",
    "        raw = raw[self.symbol].to_frame().fillna(method = \"ffill\")\n",
    "        raw = raw.loc[self.start:self.end].copy()\n",
    "        raw.rename(columns={self.symbol: \"price\"}, inplace=True)\n",
    "        raw[\"returns\"] = np.log(raw.price / raw.price.shift(1))\n",
    "        self.data = raw\n",
    "        \n",
    "    def test_strategy(self, window = 1):\n",
    "        '''\n",
    "        Prepares the data and backtests the trading strategy incl. reporting (Wrapper).\n",
    "         \n",
    "        Parameters\n",
    "        ============\n",
    "        window: int\n",
    "            time window (number of bars) to be considered for the strategy.\n",
    "        '''\n",
    "        self.window = window\n",
    "                                \n",
    "        self.prepare_data(window)\n",
    "        self.run_backtest()\n",
    "        \n",
    "        data = self.results.copy()\n",
    "        data[\"creturns\"] = data[\"returns\"].cumsum().apply(np.exp)\n",
    "        data[\"cstrategy\"] = data[\"strategy\"].cumsum().apply(np.exp)\n",
    "        self.results = data\n",
    "        \n",
    "        multiple = round(self.results.cstrategy[-1], 6)\n",
    "        print(\"Strategy-Multiple: {}\".format(multiple))\n",
    "    \n",
    "    def prepare_data(self, window):\n",
    "        ''' Prepares the Data for Backtesting.\n",
    "        '''\n",
    "        data = self.data.copy()\n",
    "        data[\"roll_return\"] = data[\"returns\"].rolling(window).mean()\n",
    "        data[\"position\"] = -np.sign(data[\"roll_return\"])\n",
    "        self.results = data\n",
    "    \n",
    "    def run_backtest(self):\n",
    "        ''' Runs the strategy backtest.\n",
    "        '''\n",
    "        \n",
    "        data = self.results.copy()\n",
    "        data[\"strategy\"] = data[\"position\"].shift(1) * data[\"returns\"]\n",
    "        data.dropna(inplace=True)\n",
    "        \n",
    "        # determine the number of trades in each bar\n",
    "        data[\"trades\"] = data.position.diff().fillna(0).abs()\n",
    "        \n",
    "        # subtract transaction/trading costs from pre-cost return\n",
    "        data.strategy = data.strategy - data.trades * self.tc\n",
    "        \n",
    "        self.results = data\n",
    "    \n",
    "    def plot_results(self):\n",
    "        '''  Plots the cumulative performance of the trading strategy compared to buy-and-hold.\n",
    "        '''\n",
    "        if self.results is None:\n",
    "            print(\"Run test_strategy() first.\")\n",
    "        else:\n",
    "            title = \"{} | Window = {} | TC = {}\".format(self.symbol, self.window, self.tc)\n",
    "            self.results[[\"creturns\", \"cstrategy\"]].plot(title=title, figsize=(12, 8))\n",
    "            \n",
    "    def optimize_strategy(self, window_range):\n",
    "        '''\n",
    "        Backtests strategy for different parameter values incl. Optimization and Reporting (Wrapper).\n",
    "         \n",
    "        Parameters\n",
    "        ============\n",
    "        window_range: tuple\n",
    "            tuples of the form (start, end, step size).\n",
    "        '''\n",
    "        \n",
    "        windows = range(*window_range)\n",
    "        \n",
    "        performance = []\n",
    "        for window in windows:\n",
    "            self.prepare_data(window)\n",
    "            self.run_backtest()\n",
    "            performance.append(np.exp(self.results.strategy.sum()))\n",
    "    \n",
    "        self.results_overview =  pd.DataFrame(data = np.array(windows), columns = [\"Windows\"])\n",
    "        self.results_overview[\"Performance\"] = performance\n",
    "        self.find_best_strategy()\n",
    "        \n",
    "    def find_best_strategy(self):\n",
    "        ''' Finds the optimal strategy (global maximum) given the window parameter range.\n",
    "        '''\n",
    "        best = self.results_overview.nlargest(1, \"Performance\")\n",
    "        window = best.Windows.iloc[0]\n",
    "        perf = best.Performance.iloc[0]\n",
    "        print(\"Windows: {} | Multiple: {}\".format(window, round(perf, 6)))\n",
    "        self.test_strategy(window)\n",
    "        \n",
    "    def visualize_many(self):\n",
    "        ''' Plots parameter values vs. Performance.\n",
    "        '''\n",
    "\n",
    "        if self.results_overview is None:\n",
    "            print(\"Run optimize_strategy() first.\")\n",
    "        else:\n",
    "            self.results_overview.set_index(\"Windows\", inplace = True)\n",
    "            self.results_overview.plot(figsize = (12, 8))\n",
    "            plt.title(\"Simple Contrarian Strategy | Performance vs Windows\", fontsize = 15)\n",
    "            plt.xlabel(\"Windows\", fontsize = 15)\n",
    "            plt.ylabel(\"Multiple\", fontsize = 15)\n",
    "            plt.show()     "
   ]
  },
  {
   "cell_type": "code",
   "execution_count": 30,
   "metadata": {},
   "outputs": [],
   "source": [
    "symbol = \"EURUSD\"\n",
    "start = \"2018-01-01\"\n",
    "end = \"2019-12-31\"\n",
    "tc = 0.00007*0"
   ]
  },
  {
   "cell_type": "code",
   "execution_count": 31,
   "metadata": {
    "scrolled": true
   },
   "outputs": [
    {
     "name": "stderr",
     "output_type": "stream",
     "text": [
      "C:\\Users\\97250\\AppData\\Local\\Temp\\ipykernel_29064\\215525125.py:64: FutureWarning: DataFrame.fillna with 'method' is deprecated and will raise in a future version. Use obj.ffill() or obj.bfill() instead.\n",
      "  raw = raw[self.symbol].to_frame().fillna(method = \"ffill\")\n"
     ]
    },
    {
     "data": {
      "text/plain": [
       "ConBacktester(symbol = EURUSD, start = 2018-01-01, end = 2019-12-31)"
      ]
     },
     "execution_count": 31,
     "metadata": {},
     "output_type": "execute_result"
    }
   ],
   "source": [
    "tester = ConBacktester(filepath= \"../Data/intraday.csv\", symbol = symbol, start = start, end = end, tc = tc)\n",
    "tester"
   ]
  },
  {
   "cell_type": "code",
   "execution_count": 32,
   "metadata": {},
   "outputs": [
    {
     "name": "stdout",
     "output_type": "stream",
     "text": [
      "Strategy-Multiple: 1.101019\n"
     ]
    },
    {
     "name": "stderr",
     "output_type": "stream",
     "text": [
      "C:\\Users\\97250\\AppData\\Local\\Temp\\ipykernel_29064\\215525125.py:89: FutureWarning: Series.__getitem__ treating keys as positions is deprecated. In a future version, integer keys will always be treated as labels (consistent with DataFrame behavior). To access a value by position, use `ser.iloc[pos]`\n",
      "  multiple = round(self.results.cstrategy[-1], 6)\n"
     ]
    }
   ],
   "source": [
    "tester.test_strategy(window = 3)"
   ]
  },
  {
   "cell_type": "code",
   "execution_count": 33,
   "metadata": {},
   "outputs": [
    {
     "name": "stdout",
     "output_type": "stream",
     "text": [
      "Windows: 44 | Multiple: 1.288223\n",
      "Strategy-Multiple: 1.288223\n"
     ]
    },
    {
     "name": "stderr",
     "output_type": "stream",
     "text": [
      "C:\\Users\\97250\\AppData\\Local\\Temp\\ipykernel_29064\\215525125.py:89: FutureWarning: Series.__getitem__ treating keys as positions is deprecated. In a future version, integer keys will always be treated as labels (consistent with DataFrame behavior). To access a value by position, use `ser.iloc[pos]`\n",
      "  multiple = round(self.results.cstrategy[-1], 6)\n"
     ]
    }
   ],
   "source": [
    "# Optimize the strategy with range of windows:\n",
    "# 1,2,3,...,1000\n",
    "tester.optimize_strategy((1, 1001, 1))"
   ]
  },
  {
   "cell_type": "code",
   "execution_count": 34,
   "metadata": {},
   "outputs": [
    {
     "data": {
      "text/plain": [
       "44"
      ]
     },
     "execution_count": 34,
     "metadata": {},
     "output_type": "execute_result"
    }
   ],
   "source": [
    "# the best hyperparameter window for contrarian strategy\n",
    "tester.window"
   ]
  },
  {
   "cell_type": "code",
   "execution_count": 35,
   "metadata": {},
   "outputs": [
    {
     "data": {
      "image/png": "[encoded data removed]",
      "text/plain": [
       "<Figure size 1200x800 with 1 Axes>"
      ]
     },
     "metadata": {},
     "output_type": "display_data"
    }
   ],
   "source": [
    "# Plot the buy and hold strategy & contrarian strategy\n",
    "tester.plot_results()"
   ]
  },
  {
   "cell_type": "code",
   "execution_count": 36,
   "metadata": {},
   "outputs": [
    {
     "data": {
      "text/html": [
       "<div>\n",
       "<style scoped>\n",
       "    .dataframe tbody tr th:only-of-type {\n",
       "        vertical-align: middle;\n",
       "    }\n",
       "\n",
       "    .dataframe tbody tr th {\n",
       "        vertical-align: top;\n",
       "    }\n",
       "\n",
       "    .dataframe thead th {\n",
       "        text-align: right;\n",
       "    }\n",
       "</style>\n",
       "<table border=\"1\" class=\"dataframe\">\n",
       "  <thead>\n",
       "    <tr style=\"text-align: right;\">\n",
       "      <th></th>\n",
       "      <th>price</th>\n",
       "      <th>returns</th>\n",
       "      <th>roll_return</th>\n",
       "      <th>position</th>\n",
       "      <th>strategy</th>\n",
       "      <th>trades</th>\n",
       "      <th>creturns</th>\n",
       "      <th>cstrategy</th>\n",
       "    </tr>\n",
       "    <tr>\n",
       "      <th>time</th>\n",
       "      <th></th>\n",
       "      <th></th>\n",
       "      <th></th>\n",
       "      <th></th>\n",
       "      <th></th>\n",
       "      <th></th>\n",
       "      <th></th>\n",
       "      <th></th>\n",
       "    </tr>\n",
       "  </thead>\n",
       "  <tbody>\n",
       "    <tr>\n",
       "      <th>2018-01-17 04:00:00+00:00</th>\n",
       "      <td>1.223655</td>\n",
       "      <td>-0.002502</td>\n",
       "      <td>0.000310</td>\n",
       "      <td>-1.0</td>\n",
       "      <td>0.002502</td>\n",
       "      <td>0.0</td>\n",
       "      <td>0.997501</td>\n",
       "      <td>1.002505</td>\n",
       "    </tr>\n",
       "    <tr>\n",
       "      <th>2018-01-17 10:00:00+00:00</th>\n",
       "      <td>1.224275</td>\n",
       "      <td>0.000507</td>\n",
       "      <td>0.000371</td>\n",
       "      <td>-1.0</td>\n",
       "      <td>-0.000507</td>\n",
       "      <td>0.0</td>\n",
       "      <td>0.998007</td>\n",
       "      <td>1.001997</td>\n",
       "    </tr>\n",
       "    <tr>\n",
       "      <th>2018-01-17 16:00:00+00:00</th>\n",
       "      <td>1.218540</td>\n",
       "      <td>-0.004695</td>\n",
       "      <td>0.000239</td>\n",
       "      <td>-1.0</td>\n",
       "      <td>0.004695</td>\n",
       "      <td>0.0</td>\n",
       "      <td>0.993332</td>\n",
       "      <td>1.006713</td>\n",
       "    </tr>\n",
       "    <tr>\n",
       "      <th>2018-01-17 22:00:00+00:00</th>\n",
       "      <td>1.217985</td>\n",
       "      <td>-0.000456</td>\n",
       "      <td>0.000249</td>\n",
       "      <td>-1.0</td>\n",
       "      <td>0.000456</td>\n",
       "      <td>0.0</td>\n",
       "      <td>0.992879</td>\n",
       "      <td>1.007172</td>\n",
       "    </tr>\n",
       "    <tr>\n",
       "      <th>2018-01-18 04:00:00+00:00</th>\n",
       "      <td>1.221435</td>\n",
       "      <td>0.002829</td>\n",
       "      <td>0.000330</td>\n",
       "      <td>-1.0</td>\n",
       "      <td>-0.002829</td>\n",
       "      <td>0.0</td>\n",
       "      <td>0.995692</td>\n",
       "      <td>1.004327</td>\n",
       "    </tr>\n",
       "    <tr>\n",
       "      <th>...</th>\n",
       "      <td>...</td>\n",
       "      <td>...</td>\n",
       "      <td>...</td>\n",
       "      <td>...</td>\n",
       "      <td>...</td>\n",
       "      <td>...</td>\n",
       "      <td>...</td>\n",
       "      <td>...</td>\n",
       "    </tr>\n",
       "    <tr>\n",
       "      <th>2019-12-29 22:00:00+00:00</th>\n",
       "      <td>1.119920</td>\n",
       "      <td>0.002092</td>\n",
       "      <td>0.000113</td>\n",
       "      <td>-1.0</td>\n",
       "      <td>-0.002092</td>\n",
       "      <td>0.0</td>\n",
       "      <td>0.912939</td>\n",
       "      <td>1.288723</td>\n",
       "    </tr>\n",
       "    <tr>\n",
       "      <th>2019-12-30 04:00:00+00:00</th>\n",
       "      <td>1.119940</td>\n",
       "      <td>0.000018</td>\n",
       "      <td>0.000146</td>\n",
       "      <td>-1.0</td>\n",
       "      <td>-0.000018</td>\n",
       "      <td>0.0</td>\n",
       "      <td>0.912955</td>\n",
       "      <td>1.288700</td>\n",
       "    </tr>\n",
       "    <tr>\n",
       "      <th>2019-12-30 10:00:00+00:00</th>\n",
       "      <td>1.120095</td>\n",
       "      <td>0.000138</td>\n",
       "      <td>0.000170</td>\n",
       "      <td>-1.0</td>\n",
       "      <td>-0.000138</td>\n",
       "      <td>0.0</td>\n",
       "      <td>0.913081</td>\n",
       "      <td>1.288522</td>\n",
       "    </tr>\n",
       "    <tr>\n",
       "      <th>2019-12-30 16:00:00+00:00</th>\n",
       "      <td>1.119920</td>\n",
       "      <td>-0.000156</td>\n",
       "      <td>0.000139</td>\n",
       "      <td>-1.0</td>\n",
       "      <td>0.000156</td>\n",
       "      <td>0.0</td>\n",
       "      <td>0.912939</td>\n",
       "      <td>1.288723</td>\n",
       "    </tr>\n",
       "    <tr>\n",
       "      <th>2019-12-30 22:00:00+00:00</th>\n",
       "      <td>1.120355</td>\n",
       "      <td>0.000388</td>\n",
       "      <td>0.000053</td>\n",
       "      <td>-1.0</td>\n",
       "      <td>-0.000388</td>\n",
       "      <td>0.0</td>\n",
       "      <td>0.913293</td>\n",
       "      <td>1.288223</td>\n",
       "    </tr>\n",
       "  </tbody>\n",
       "</table>\n",
       "<p>2025 rows × 8 columns</p>\n",
       "</div>"
      ],
      "text/plain": [
       "                              price   returns  roll_return  position  \\\n",
       "time                                                                   \n",
       "2018-01-17 04:00:00+00:00  1.223655 -0.002502     0.000310      -1.0   \n",
       "2018-01-17 10:00:00+00:00  1.224275  0.000507     0.000371      -1.0   \n",
       "2018-01-17 16:00:00+00:00  1.218540 -0.004695     0.000239      -1.0   \n",
       "2018-01-17 22:00:00+00:00  1.217985 -0.000456     0.000249      -1.0   \n",
       "2018-01-18 04:00:00+00:00  1.221435  0.002829     0.000330      -1.0   \n",
       "...                             ...       ...          ...       ...   \n",
       "2019-12-29 22:00:00+00:00  1.119920  0.002092     0.000113      -1.0   \n",
       "2019-12-30 04:00:00+00:00  1.119940  0.000018     0.000146      -1.0   \n",
       "2019-12-30 10:00:00+00:00  1.120095  0.000138     0.000170      -1.0   \n",
       "2019-12-30 16:00:00+00:00  1.119920 -0.000156     0.000139      -1.0   \n",
       "2019-12-30 22:00:00+00:00  1.120355  0.000388     0.000053      -1.0   \n",
       "\n",
       "                           strategy  trades  creturns  cstrategy  \n",
       "time                                                              \n",
       "2018-01-17 04:00:00+00:00  0.002502     0.0  0.997501   1.002505  \n",
       "2018-01-17 10:00:00+00:00 -0.000507     0.0  0.998007   1.001997  \n",
       "2018-01-17 16:00:00+00:00  0.004695     0.0  0.993332   1.006713  \n",
       "2018-01-17 22:00:00+00:00  0.000456     0.0  0.992879   1.007172  \n",
       "2018-01-18 04:00:00+00:00 -0.002829     0.0  0.995692   1.004327  \n",
       "...                             ...     ...       ...        ...  \n",
       "2019-12-29 22:00:00+00:00 -0.002092     0.0  0.912939   1.288723  \n",
       "2019-12-30 04:00:00+00:00 -0.000018     0.0  0.912955   1.288700  \n",
       "2019-12-30 10:00:00+00:00 -0.000138     0.0  0.913081   1.288522  \n",
       "2019-12-30 16:00:00+00:00  0.000156     0.0  0.912939   1.288723  \n",
       "2019-12-30 22:00:00+00:00 -0.000388     0.0  0.913293   1.288223  \n",
       "\n",
       "[2025 rows x 8 columns]"
      ]
     },
     "execution_count": 36,
     "metadata": {},
     "output_type": "execute_result"
    }
   ],
   "source": [
    "tester.results"
   ]
  },
  {
   "cell_type": "code",
   "execution_count": 37,
   "metadata": {},
   "outputs": [
    {
     "data": {
      "text/html": [
       "<div>\n",
       "<style scoped>\n",
       "    .dataframe tbody tr th:only-of-type {\n",
       "        vertical-align: middle;\n",
       "    }\n",
       "\n",
       "    .dataframe tbody tr th {\n",
       "        vertical-align: top;\n",
       "    }\n",
       "\n",
       "    .dataframe thead th {\n",
       "        text-align: right;\n",
       "    }\n",
       "</style>\n",
       "<table border=\"1\" class=\"dataframe\">\n",
       "  <thead>\n",
       "    <tr style=\"text-align: right;\">\n",
       "      <th></th>\n",
       "      <th>Windows</th>\n",
       "      <th>Performance</th>\n",
       "    </tr>\n",
       "  </thead>\n",
       "  <tbody>\n",
       "    <tr>\n",
       "      <th>0</th>\n",
       "      <td>1</td>\n",
       "      <td>1.114221</td>\n",
       "    </tr>\n",
       "    <tr>\n",
       "      <th>1</th>\n",
       "      <td>2</td>\n",
       "      <td>1.047340</td>\n",
       "    </tr>\n",
       "    <tr>\n",
       "      <th>2</th>\n",
       "      <td>3</td>\n",
       "      <td>1.101019</td>\n",
       "    </tr>\n",
       "    <tr>\n",
       "      <th>3</th>\n",
       "      <td>4</td>\n",
       "      <td>0.875957</td>\n",
       "    </tr>\n",
       "    <tr>\n",
       "      <th>4</th>\n",
       "      <td>5</td>\n",
       "      <td>0.908366</td>\n",
       "    </tr>\n",
       "    <tr>\n",
       "      <th>...</th>\n",
       "      <td>...</td>\n",
       "      <td>...</td>\n",
       "    </tr>\n",
       "    <tr>\n",
       "      <th>995</th>\n",
       "      <td>996</td>\n",
       "      <td>0.990562</td>\n",
       "    </tr>\n",
       "    <tr>\n",
       "      <th>996</th>\n",
       "      <td>997</td>\n",
       "      <td>0.988896</td>\n",
       "    </tr>\n",
       "    <tr>\n",
       "      <th>997</th>\n",
       "      <td>998</td>\n",
       "      <td>0.988303</td>\n",
       "    </tr>\n",
       "    <tr>\n",
       "      <th>998</th>\n",
       "      <td>999</td>\n",
       "      <td>0.987310</td>\n",
       "    </tr>\n",
       "    <tr>\n",
       "      <th>999</th>\n",
       "      <td>1000</td>\n",
       "      <td>0.986697</td>\n",
       "    </tr>\n",
       "  </tbody>\n",
       "</table>\n",
       "<p>1000 rows × 2 columns</p>\n",
       "</div>"
      ],
      "text/plain": [
       "     Windows  Performance\n",
       "0          1     1.114221\n",
       "1          2     1.047340\n",
       "2          3     1.101019\n",
       "3          4     0.875957\n",
       "4          5     0.908366\n",
       "..       ...          ...\n",
       "995      996     0.990562\n",
       "996      997     0.988896\n",
       "997      998     0.988303\n",
       "998      999     0.987310\n",
       "999     1000     0.986697\n",
       "\n",
       "[1000 rows x 2 columns]"
      ]
     },
     "execution_count": 37,
     "metadata": {},
     "output_type": "execute_result"
    }
   ],
   "source": [
    "# Show all the results from all the different windoes taht we have tested.\n",
    "tester.results_overview"
   ]
  },
  {
   "cell_type": "code",
   "execution_count": 38,
   "metadata": {},
   "outputs": [
    {
     "data": {
      "image/png": "[encoded data removed]",
      "text/plain": [
       "<Figure size 1200x800 with 1 Axes>"
      ]
     },
     "metadata": {},
     "output_type": "display_data"
    }
   ],
   "source": [
    "# Visuzluze the range of windoes (that we tested on the strategy) and its\n",
    "# corresponding multiple (gain/loss)\n",
    "tester.visualize_many()"
   ]
  },
  {
   "cell_type": "code",
   "execution_count": 39,
   "metadata": {},
   "outputs": [
    {
     "data": {
      "text/plain": [
       "trades\n",
       "0.0    1871\n",
       "2.0     154\n",
       "Name: count, dtype: int64"
      ]
     },
     "execution_count": 39,
     "metadata": {},
     "output_type": "execute_result"
    }
   ],
   "source": [
    "# How many trades we made?\n",
    "tester.results.trades.value_counts()"
   ]
  },
  {
   "cell_type": "markdown",
   "metadata": {},
   "source": [
    "---"
   ]
  },
  {
   "cell_type": "markdown",
   "metadata": {},
   "source": [
    "# Advanced Performance Reporting"
   ]
  },
  {
   "cell_type": "code",
   "execution_count": 40,
   "metadata": {},
   "outputs": [],
   "source": [
    "import pandas as pd\n",
    "import numpy as np\n",
    "import matplotlib.pyplot as plt\n",
    "plt.style.use(\"seaborn-v0_8\")"
   ]
  },
  {
   "cell_type": "code",
   "execution_count": 41,
   "metadata": {},
   "outputs": [],
   "source": [
    "# Version 2.0 (Window Optimization)\n",
    "\n",
    "class ConBacktester():\n",
    "    ''' Class for the vectorized backtesting of simple contrarian trading strategies.\n",
    "    \n",
    "    Attributes\n",
    "    ============\n",
    "    filepath: str\n",
    "        local filepath of the dataset (csv-file)\n",
    "    symbol: str\n",
    "        ticker symbol (instrument) to be backtested\n",
    "    start: str\n",
    "        start date for data import\n",
    "    end: str\n",
    "        end date for data import\n",
    "    tc: float\n",
    "        proportional trading costs per trade\n",
    "    \n",
    "    \n",
    "    Methods\n",
    "    =======\n",
    "    get_data:\n",
    "        imports the data.\n",
    "        \n",
    "    test_strategy:\n",
    "        prepares the data and backtests the trading strategy incl. reporting (wrapper).\n",
    "        \n",
    "    prepare_data:\n",
    "        prepares the data for backtesting.\n",
    "    \n",
    "    run_backtest:\n",
    "        runs the strategy backtest.\n",
    "        \n",
    "    plot_results:\n",
    "        plots the cumulative performance of the trading strategy compared to buy-and-hold.\n",
    "        \n",
    "    optimize_strategy:\n",
    "        backtests strategy for different parameter values incl. optimization and reporting (wrapper).\n",
    "    \n",
    "    find_best_strategy:\n",
    "        finds the optimal strategy (global maximum) given the window parameter range.\n",
    "        \n",
    "    visualize_many:\n",
    "        plots parameter values vs. performance. \n",
    "    '''    \n",
    "    \n",
    "    def __init__(self, filepath, symbol, start, end, tc):\n",
    "        \n",
    "        self.filepath = filepath\n",
    "        self.symbol = symbol\n",
    "        self.start = start\n",
    "        self.end = end\n",
    "        self.tc = tc\n",
    "        self.results = None\n",
    "        self.get_data()\n",
    "        \n",
    "    def __repr__(self):\n",
    "        return \"ConBacktester(symbol = {}, start = {}, end = {})\".format(self.symbol, self.start, self.end)\n",
    "        \n",
    "    def get_data(self):\n",
    "        ''' Imports the data.\n",
    "        '''\n",
    "        raw = pd.read_csv(self.filepath, parse_dates = [\"time\"], index_col = \"time\")\n",
    "        raw = raw[self.symbol].to_frame().fillna(method = \"ffill\")\n",
    "        raw = raw.loc[self.start:self.end].copy()\n",
    "        raw.rename(columns={self.symbol: \"price\"}, inplace=True)\n",
    "        raw[\"returns\"] = np.log(raw.price / raw.price.shift(1))\n",
    "        self.data = raw\n",
    "        \n",
    "    def test_strategy(self, window = 1):\n",
    "        '''\n",
    "        Prepares the data and backtests the trading strategy incl. reporting (Wrapper).\n",
    "         \n",
    "        Parameters\n",
    "        ============\n",
    "        window: int\n",
    "            time window (number of bars) to be considered for the strategy.\n",
    "        '''\n",
    "        self.window = window\n",
    "                                \n",
    "        self.prepare_data(window)\n",
    "        self.run_backtest()\n",
    "        \n",
    "        data = self.results.copy()\n",
    "        data[\"creturns\"] = data[\"returns\"].cumsum().apply(np.exp)\n",
    "        data[\"cstrategy\"] = data[\"strategy\"].cumsum().apply(np.exp)\n",
    "        self.results = data\n",
    "        \n",
    "        multiple = round(self.results.cstrategy[-1], 6)\n",
    "        print(\"Strategy-Multiple: {}\".format(multiple))\n",
    "    \n",
    "    def prepare_data(self, window):\n",
    "        ''' Prepares the Data for Backtesting.\n",
    "        '''\n",
    "        data = self.data.copy()\n",
    "        data[\"roll_return\"] = data[\"returns\"].rolling(window).mean()\n",
    "        data[\"position\"] = -np.sign(data[\"roll_return\"])\n",
    "        self.results = data\n",
    "    \n",
    "    def run_backtest(self):\n",
    "        ''' Runs the strategy backtest.\n",
    "        '''\n",
    "        \n",
    "        data = self.results.copy()\n",
    "        data[\"strategy\"] = data[\"position\"].shift(1) * data[\"returns\"]\n",
    "        data.dropna(inplace=True)\n",
    "        \n",
    "        # determine the number of trades in each bar\n",
    "        data[\"trades\"] = data.position.diff().fillna(0).abs()\n",
    "        \n",
    "        # subtract transaction/trading costs from pre-cost return\n",
    "        data.strategy = data.strategy - data.trades * self.tc\n",
    "        \n",
    "        self.results = data\n",
    "    \n",
    "    def plot_results(self):\n",
    "        '''  Plots the cumulative performance of the trading strategy compared to buy-and-hold.\n",
    "        '''\n",
    "        if self.results is None:\n",
    "            print(\"Run test_strategy() first.\")\n",
    "        else:\n",
    "            title = \"{} | Window = {} | TC = {}\".format(self.symbol, self.window, self.tc)\n",
    "            self.results[[\"creturns\", \"cstrategy\"]].plot(title=title, figsize=(12, 8))\n",
    "            \n",
    "    def optimize_strategy(self, window_range):\n",
    "        '''\n",
    "        Backtests strategy for different parameter values incl. Optimization and Reporting (Wrapper).\n",
    "         \n",
    "        Parameters\n",
    "        ============\n",
    "        window_range: tuple\n",
    "            tuples of the form (start, end, step size).\n",
    "        '''\n",
    "        \n",
    "        windows = range(*window_range)\n",
    "        \n",
    "        performance = []\n",
    "        for window in windows:\n",
    "            self.prepare_data(window)\n",
    "            self.run_backtest()\n",
    "            performance.append(np.exp(self.results.strategy.sum()))\n",
    "    \n",
    "        self.results_overview =  pd.DataFrame(data = np.array(windows), columns = [\"Windows\"])\n",
    "        self.results_overview[\"Performance\"] = performance\n",
    "        self.find_best_strategy()\n",
    "        \n",
    "    def find_best_strategy(self):\n",
    "        ''' Finds the optimal strategy (global maximum) given the window parameter range.\n",
    "        '''\n",
    "        best = self.results_overview.nlargest(1, \"Performance\")\n",
    "        window = best.Windows.iloc[0]\n",
    "        perf = best.Performance.iloc[0]\n",
    "        print(\"Windows: {} | Multiple: {}\".format(window, round(perf, 6)))\n",
    "        self.test_strategy(window)\n",
    "        \n",
    "    def visualize_many(self):\n",
    "        ''' Plots parameter values vs. Performance.\n",
    "        '''\n",
    "\n",
    "        if self.results_overview is None:\n",
    "            print(\"Run optimize_strategy() first.\")\n",
    "        else:\n",
    "            self.results_overview.set_index(\"Windows\", inplace = True)\n",
    "            self.results_overview.plot(figsize = (12, 8))\n",
    "            plt.title(\"Simple Contrarian Strategy | Performance vs Windows\", fontsize = 15)\n",
    "            plt.xlabel(\"Windows\", fontsize = 15)\n",
    "            plt.ylabel(\"Multiple\", fontsize = 15)\n",
    "            plt.show()     "
   ]
  },
  {
   "cell_type": "code",
   "execution_count": 42,
   "metadata": {},
   "outputs": [],
   "source": [
    "symbol = \"EURUSD\"\n",
    "start = \"2018-01-01\"\n",
    "end = \"2019-12-31\"\n",
    "tc = 0.00007"
   ]
  },
  {
   "cell_type": "code",
   "execution_count": 43,
   "metadata": {
    "scrolled": true
   },
   "outputs": [
    {
     "name": "stderr",
     "output_type": "stream",
     "text": [
      "C:\\Users\\97250\\AppData\\Local\\Temp\\ipykernel_29064\\215525125.py:64: FutureWarning: DataFrame.fillna with 'method' is deprecated and will raise in a future version. Use obj.ffill() or obj.bfill() instead.\n",
      "  raw = raw[self.symbol].to_frame().fillna(method = \"ffill\")\n"
     ]
    },
    {
     "data": {
      "text/plain": [
       "ConBacktester(symbol = EURUSD, start = 2018-01-01, end = 2019-12-31)"
      ]
     },
     "execution_count": 43,
     "metadata": {},
     "output_type": "execute_result"
    }
   ],
   "source": [
    "tester = ConBacktester(filepath= \"../Data/intraday.csv\", symbol = symbol, start = start, end = end, tc = tc)\n",
    "tester"
   ]
  },
  {
   "cell_type": "code",
   "execution_count": 44,
   "metadata": {},
   "outputs": [
    {
     "name": "stdout",
     "output_type": "stream",
     "text": [
      "Strategy-Multiple: 1.262038\n"
     ]
    },
    {
     "name": "stderr",
     "output_type": "stream",
     "text": [
      "C:\\Users\\97250\\AppData\\Local\\Temp\\ipykernel_29064\\215525125.py:89: FutureWarning: Series.__getitem__ treating keys as positions is deprecated. In a future version, integer keys will always be treated as labels (consistent with DataFrame behavior). To access a value by position, use `ser.iloc[pos]`\n",
      "  multiple = round(self.results.cstrategy[-1], 6)\n"
     ]
    }
   ],
   "source": [
    "tester.test_strategy(window = 51)"
   ]
  },
  {
   "cell_type": "code",
   "execution_count": 45,
   "metadata": {},
   "outputs": [
    {
     "data": {
      "image/png": "[encoded data removed]",
      "text/plain": [
       "<Figure size 1200x800 with 1 Axes>"
      ]
     },
     "metadata": {},
     "output_type": "display_data"
    }
   ],
   "source": [
    "tester.plot_results()"
   ]
  },
  {
   "cell_type": "markdown",
   "metadata": {},
   "source": [
    "__Required for many performance metrics: trading periods (6h) per year__ "
   ]
  },
  {
   "cell_type": "code",
   "execution_count": 46,
   "metadata": {},
   "outputs": [
    {
     "data": {
      "text/html": [
       "<div>\n",
       "<style scoped>\n",
       "    .dataframe tbody tr th:only-of-type {\n",
       "        vertical-align: middle;\n",
       "    }\n",
       "\n",
       "    .dataframe tbody tr th {\n",
       "        vertical-align: top;\n",
       "    }\n",
       "\n",
       "    .dataframe thead th {\n",
       "        text-align: right;\n",
       "    }\n",
       "</style>\n",
       "<table border=\"1\" class=\"dataframe\">\n",
       "  <thead>\n",
       "    <tr style=\"text-align: right;\">\n",
       "      <th></th>\n",
       "      <th>price</th>\n",
       "      <th>returns</th>\n",
       "    </tr>\n",
       "    <tr>\n",
       "      <th>time</th>\n",
       "      <th></th>\n",
       "      <th></th>\n",
       "    </tr>\n",
       "  </thead>\n",
       "  <tbody>\n",
       "    <tr>\n",
       "      <th>2018-01-01 22:00:00+00:00</th>\n",
       "      <td>1.201205</td>\n",
       "      <td>NaN</td>\n",
       "    </tr>\n",
       "    <tr>\n",
       "      <th>2018-01-02 04:00:00+00:00</th>\n",
       "      <td>1.207055</td>\n",
       "      <td>0.004858</td>\n",
       "    </tr>\n",
       "    <tr>\n",
       "      <th>2018-01-02 10:00:00+00:00</th>\n",
       "      <td>1.204440</td>\n",
       "      <td>-0.002169</td>\n",
       "    </tr>\n",
       "    <tr>\n",
       "      <th>2018-01-02 16:00:00+00:00</th>\n",
       "      <td>1.205800</td>\n",
       "      <td>0.001129</td>\n",
       "    </tr>\n",
       "    <tr>\n",
       "      <th>2018-01-02 22:00:00+00:00</th>\n",
       "      <td>1.204690</td>\n",
       "      <td>-0.000921</td>\n",
       "    </tr>\n",
       "    <tr>\n",
       "      <th>...</th>\n",
       "      <td>...</td>\n",
       "      <td>...</td>\n",
       "    </tr>\n",
       "    <tr>\n",
       "      <th>2019-12-29 22:00:00+00:00</th>\n",
       "      <td>1.119920</td>\n",
       "      <td>0.002092</td>\n",
       "    </tr>\n",
       "    <tr>\n",
       "      <th>2019-12-30 04:00:00+00:00</th>\n",
       "      <td>1.119940</td>\n",
       "      <td>0.000018</td>\n",
       "    </tr>\n",
       "    <tr>\n",
       "      <th>2019-12-30 10:00:00+00:00</th>\n",
       "      <td>1.120095</td>\n",
       "      <td>0.000138</td>\n",
       "    </tr>\n",
       "    <tr>\n",
       "      <th>2019-12-30 16:00:00+00:00</th>\n",
       "      <td>1.119920</td>\n",
       "      <td>-0.000156</td>\n",
       "    </tr>\n",
       "    <tr>\n",
       "      <th>2019-12-30 22:00:00+00:00</th>\n",
       "      <td>1.120355</td>\n",
       "      <td>0.000388</td>\n",
       "    </tr>\n",
       "  </tbody>\n",
       "</table>\n",
       "<p>2070 rows × 2 columns</p>\n",
       "</div>"
      ],
      "text/plain": [
       "                              price   returns\n",
       "time                                         \n",
       "2018-01-01 22:00:00+00:00  1.201205       NaN\n",
       "2018-01-02 04:00:00+00:00  1.207055  0.004858\n",
       "2018-01-02 10:00:00+00:00  1.204440 -0.002169\n",
       "2018-01-02 16:00:00+00:00  1.205800  0.001129\n",
       "2018-01-02 22:00:00+00:00  1.204690 -0.000921\n",
       "...                             ...       ...\n",
       "2019-12-29 22:00:00+00:00  1.119920  0.002092\n",
       "2019-12-30 04:00:00+00:00  1.119940  0.000018\n",
       "2019-12-30 10:00:00+00:00  1.120095  0.000138\n",
       "2019-12-30 16:00:00+00:00  1.119920 -0.000156\n",
       "2019-12-30 22:00:00+00:00  1.120355  0.000388\n",
       "\n",
       "[2070 rows x 2 columns]"
      ]
     },
     "execution_count": 46,
     "metadata": {},
     "output_type": "execute_result"
    }
   ],
   "source": [
    "tester.data"
   ]
  },
  {
   "cell_type": "code",
   "execution_count": 65,
   "metadata": {},
   "outputs": [
    {
     "name": "stdout",
     "output_type": "stream",
     "text": [
      "with frequency of 6h, we have 1039 trades in one year\n"
     ]
    }
   ],
   "source": [
    "# The `price.count() `is the number of non-null values in the \"price\" column\n",
    "tp_year = (tester.data.price.count() / ((tester.data.index[-1] - tester.data.index[0]).days / 365.25))\n",
    "print(f\"with frequency of 6h, we have {round(tp_year)} trades in one year\" )"
   ]
  },
  {
   "cell_type": "code",
   "execution_count": 66,
   "metadata": {},
   "outputs": [
    {
     "data": {
      "text/html": [
       "<div>\n",
       "<style scoped>\n",
       "    .dataframe tbody tr th:only-of-type {\n",
       "        vertical-align: middle;\n",
       "    }\n",
       "\n",
       "    .dataframe tbody tr th {\n",
       "        vertical-align: top;\n",
       "    }\n",
       "\n",
       "    .dataframe thead th {\n",
       "        text-align: right;\n",
       "    }\n",
       "</style>\n",
       "<table border=\"1\" class=\"dataframe\">\n",
       "  <thead>\n",
       "    <tr style=\"text-align: right;\">\n",
       "      <th></th>\n",
       "      <th>price</th>\n",
       "      <th>returns</th>\n",
       "      <th>roll_return</th>\n",
       "      <th>position</th>\n",
       "      <th>strategy</th>\n",
       "      <th>trades</th>\n",
       "      <th>creturns</th>\n",
       "      <th>cstrategy</th>\n",
       "    </tr>\n",
       "    <tr>\n",
       "      <th>time</th>\n",
       "      <th></th>\n",
       "      <th></th>\n",
       "      <th></th>\n",
       "      <th></th>\n",
       "      <th></th>\n",
       "      <th></th>\n",
       "      <th></th>\n",
       "      <th></th>\n",
       "    </tr>\n",
       "  </thead>\n",
       "  <tbody>\n",
       "    <tr>\n",
       "      <th>2018-01-18 22:00:00+00:00</th>\n",
       "      <td>1.226670</td>\n",
       "      <td>0.002265</td>\n",
       "      <td>0.000316</td>\n",
       "      <td>-1.0</td>\n",
       "      <td>-0.002265</td>\n",
       "      <td>0.0</td>\n",
       "      <td>1.002267</td>\n",
       "      <td>0.997738</td>\n",
       "    </tr>\n",
       "    <tr>\n",
       "      <th>2018-01-19 04:00:00+00:00</th>\n",
       "      <td>1.228160</td>\n",
       "      <td>0.001214</td>\n",
       "      <td>0.000382</td>\n",
       "      <td>-1.0</td>\n",
       "      <td>-0.001214</td>\n",
       "      <td>0.0</td>\n",
       "      <td>1.003485</td>\n",
       "      <td>0.996527</td>\n",
       "    </tr>\n",
       "    <tr>\n",
       "      <th>2018-01-19 10:00:00+00:00</th>\n",
       "      <td>1.222085</td>\n",
       "      <td>-0.004959</td>\n",
       "      <td>0.000263</td>\n",
       "      <td>-1.0</td>\n",
       "      <td>0.004959</td>\n",
       "      <td>0.0</td>\n",
       "      <td>0.998521</td>\n",
       "      <td>1.001481</td>\n",
       "    </tr>\n",
       "    <tr>\n",
       "      <th>2018-01-19 16:00:00+00:00</th>\n",
       "      <td>1.222110</td>\n",
       "      <td>0.000020</td>\n",
       "      <td>0.000282</td>\n",
       "      <td>-1.0</td>\n",
       "      <td>-0.000020</td>\n",
       "      <td>0.0</td>\n",
       "      <td>0.998542</td>\n",
       "      <td>1.001461</td>\n",
       "    </tr>\n",
       "    <tr>\n",
       "      <th>2018-01-21 22:00:00+00:00</th>\n",
       "      <td>1.222900</td>\n",
       "      <td>0.000646</td>\n",
       "      <td>0.000308</td>\n",
       "      <td>-1.0</td>\n",
       "      <td>-0.000646</td>\n",
       "      <td>0.0</td>\n",
       "      <td>0.999187</td>\n",
       "      <td>1.000814</td>\n",
       "    </tr>\n",
       "    <tr>\n",
       "      <th>...</th>\n",
       "      <td>...</td>\n",
       "      <td>...</td>\n",
       "      <td>...</td>\n",
       "      <td>...</td>\n",
       "      <td>...</td>\n",
       "      <td>...</td>\n",
       "      <td>...</td>\n",
       "      <td>...</td>\n",
       "    </tr>\n",
       "    <tr>\n",
       "      <th>2019-12-29 22:00:00+00:00</th>\n",
       "      <td>1.119920</td>\n",
       "      <td>0.002092</td>\n",
       "      <td>0.000215</td>\n",
       "      <td>-1.0</td>\n",
       "      <td>-0.002092</td>\n",
       "      <td>0.0</td>\n",
       "      <td>0.915046</td>\n",
       "      <td>1.262528</td>\n",
       "    </tr>\n",
       "    <tr>\n",
       "      <th>2019-12-30 04:00:00+00:00</th>\n",
       "      <td>1.119940</td>\n",
       "      <td>0.000018</td>\n",
       "      <td>0.000192</td>\n",
       "      <td>-1.0</td>\n",
       "      <td>-0.000018</td>\n",
       "      <td>0.0</td>\n",
       "      <td>0.915062</td>\n",
       "      <td>1.262506</td>\n",
       "    </tr>\n",
       "    <tr>\n",
       "      <th>2019-12-30 10:00:00+00:00</th>\n",
       "      <td>1.120095</td>\n",
       "      <td>0.000138</td>\n",
       "      <td>0.000189</td>\n",
       "      <td>-1.0</td>\n",
       "      <td>-0.000138</td>\n",
       "      <td>0.0</td>\n",
       "      <td>0.915189</td>\n",
       "      <td>1.262331</td>\n",
       "    </tr>\n",
       "    <tr>\n",
       "      <th>2019-12-30 16:00:00+00:00</th>\n",
       "      <td>1.119920</td>\n",
       "      <td>-0.000156</td>\n",
       "      <td>0.000188</td>\n",
       "      <td>-1.0</td>\n",
       "      <td>0.000156</td>\n",
       "      <td>0.0</td>\n",
       "      <td>0.915046</td>\n",
       "      <td>1.262528</td>\n",
       "    </tr>\n",
       "    <tr>\n",
       "      <th>2019-12-30 22:00:00+00:00</th>\n",
       "      <td>1.120355</td>\n",
       "      <td>0.000388</td>\n",
       "      <td>0.000211</td>\n",
       "      <td>-1.0</td>\n",
       "      <td>-0.000388</td>\n",
       "      <td>0.0</td>\n",
       "      <td>0.915401</td>\n",
       "      <td>1.262038</td>\n",
       "    </tr>\n",
       "  </tbody>\n",
       "</table>\n",
       "<p>2018 rows × 8 columns</p>\n",
       "</div>"
      ],
      "text/plain": [
       "                              price   returns  roll_return  position  \\\n",
       "time                                                                   \n",
       "2018-01-18 22:00:00+00:00  1.226670  0.002265     0.000316      -1.0   \n",
       "2018-01-19 04:00:00+00:00  1.228160  0.001214     0.000382      -1.0   \n",
       "2018-01-19 10:00:00+00:00  1.222085 -0.004959     0.000263      -1.0   \n",
       "2018-01-19 16:00:00+00:00  1.222110  0.000020     0.000282      -1.0   \n",
       "2018-01-21 22:00:00+00:00  1.222900  0.000646     0.000308      -1.0   \n",
       "...                             ...       ...          ...       ...   \n",
       "2019-12-29 22:00:00+00:00  1.119920  0.002092     0.000215      -1.0   \n",
       "2019-12-30 04:00:00+00:00  1.119940  0.000018     0.000192      -1.0   \n",
       "2019-12-30 10:00:00+00:00  1.120095  0.000138     0.000189      -1.0   \n",
       "2019-12-30 16:00:00+00:00  1.119920 -0.000156     0.000188      -1.0   \n",
       "2019-12-30 22:00:00+00:00  1.120355  0.000388     0.000211      -1.0   \n",
       "\n",
       "                           strategy  trades  creturns  cstrategy  \n",
       "time                                                              \n",
       "2018-01-18 22:00:00+00:00 -0.002265     0.0  1.002267   0.997738  \n",
       "2018-01-19 04:00:00+00:00 -0.001214     0.0  1.003485   0.996527  \n",
       "2018-01-19 10:00:00+00:00  0.004959     0.0  0.998521   1.001481  \n",
       "2018-01-19 16:00:00+00:00 -0.000020     0.0  0.998542   1.001461  \n",
       "2018-01-21 22:00:00+00:00 -0.000646     0.0  0.999187   1.000814  \n",
       "...                             ...     ...       ...        ...  \n",
       "2019-12-29 22:00:00+00:00 -0.002092     0.0  0.915046   1.262528  \n",
       "2019-12-30 04:00:00+00:00 -0.000018     0.0  0.915062   1.262506  \n",
       "2019-12-30 10:00:00+00:00 -0.000138     0.0  0.915189   1.262331  \n",
       "2019-12-30 16:00:00+00:00  0.000156     0.0  0.915046   1.262528  \n",
       "2019-12-30 22:00:00+00:00 -0.000388     0.0  0.915401   1.262038  \n",
       "\n",
       "[2018 rows x 8 columns]"
      ]
     },
     "execution_count": 66,
     "metadata": {},
     "output_type": "execute_result"
    }
   ],
   "source": [
    "tester.results"
   ]
  },
  {
   "cell_type": "markdown",
   "metadata": {},
   "source": [
    "__Multiple__"
   ]
  },
  {
   "cell_type": "code",
   "execution_count": 67,
   "metadata": {},
   "outputs": [],
   "source": [
    "# Calculate the multiple:\n",
    "def calculate_multiple(series):\n",
    "    return np.exp(series.sum())"
   ]
  },
  {
   "cell_type": "code",
   "execution_count": 68,
   "metadata": {},
   "outputs": [
    {
     "data": {
      "text/plain": [
       "1.2620379773848887"
      ]
     },
     "execution_count": 68,
     "metadata": {},
     "output_type": "execute_result"
    }
   ],
   "source": [
    "calculate_multiple(tester.results.strategy)\n",
    "# interpretation\n",
    "# for each 1$, we get back 1.26$"
   ]
  },
  {
   "cell_type": "markdown",
   "metadata": {},
   "source": [
    "__CAGR__"
   ]
  },
  {
   "cell_type": "code",
   "execution_count": 74,
   "metadata": {},
   "outputs": [],
   "source": [
    "# Calcualte the Compund annualize growth rate\n",
    "def calculate_cagr(series):\n",
    "        #             multiple      ^            1 / number of trades in a year                                               \n",
    "        return np.exp(series.sum())**(1/((series.index[-1] - series.index[0]).days / 365.25)) - 1"
   ]
  },
  {
   "cell_type": "code",
   "execution_count": 75,
   "metadata": {},
   "outputs": [
    {
     "data": {
      "text/plain": [
       "0.12699561489564082"
      ]
     },
     "execution_count": 75,
     "metadata": {},
     "output_type": "execute_result"
    }
   ],
   "source": [
    "calculate_cagr(tester.results.strategy)"
   ]
  },
  {
   "cell_type": "markdown",
   "metadata": {},
   "source": [
    "__annualized mean return__"
   ]
  },
  {
   "cell_type": "code",
   "execution_count": 71,
   "metadata": {},
   "outputs": [],
   "source": [
    "def calculate_annualized_mean(series):\n",
    "    return series.mean() * tp_year"
   ]
  },
  {
   "cell_type": "code",
   "execution_count": 72,
   "metadata": {},
   "outputs": [
    {
     "data": {
      "text/plain": [
       "0.11977230256082305"
      ]
     },
     "execution_count": 72,
     "metadata": {},
     "output_type": "execute_result"
    }
   ],
   "source": [
    "calculate_annualized_mean(tester.results.strategy)\n",
    "\n",
    "# this is the yearly mean return"
   ]
  },
  {
   "cell_type": "markdown",
   "metadata": {},
   "source": [
    "__annualized std__"
   ]
  },
  {
   "cell_type": "code",
   "execution_count": 76,
   "metadata": {},
   "outputs": [],
   "source": [
    "def calculate_annualized_std(series):\n",
    "    return series.std() * np.sqrt(tp_year)\n",
    "\n",
    "# this is the yearly risk"
   ]
  },
  {
   "cell_type": "code",
   "execution_count": 77,
   "metadata": {},
   "outputs": [
    {
     "data": {
      "text/plain": [
       "0.05989495330671505"
      ]
     },
     "execution_count": 77,
     "metadata": {},
     "output_type": "execute_result"
    }
   ],
   "source": [
    "calculate_annualized_std(tester.results.strategy)"
   ]
  },
  {
   "cell_type": "markdown",
   "metadata": {},
   "source": [
    "__Sharpe Ratio__"
   ]
  },
  {
   "cell_type": "code",
   "execution_count": 83,
   "metadata": {},
   "outputs": [],
   "source": [
    "def calculate_sharpe(series):\n",
    "    if series.std() == 0:\n",
    "        return np.nan\n",
    "    else:\n",
    "        # the mean return of a period (e.g 1000 trades) / the risk of the same period (1000 trades)\n",
    "        return series.mean() / series.std() * np.sqrt(tp_year)"
   ]
  },
  {
   "cell_type": "code",
   "execution_count": 84,
   "metadata": {},
   "outputs": [
    {
     "data": {
      "text/plain": [
       "1.9997060845424337"
      ]
     },
     "execution_count": 84,
     "metadata": {},
     "output_type": "execute_result"
    }
   ],
   "source": [
    "calculate_sharpe(tester.results.strategy)"
   ]
  },
  {
   "cell_type": "markdown",
   "metadata": {},
   "source": [
    "__+ Sortino Ratio, Max Drawdown, Max Drawdown Duration, Calmar Ratio, Kelly Criterion, and many more...__"
   ]
  },
  {
   "cell_type": "markdown",
   "metadata": {},
   "source": [
    "---"
   ]
  },
  {
   "cell_type": "markdown",
   "metadata": {},
   "source": [
    "# Updating the ConBacktester Class (advanced Performance Reporting)\n",
    "\n",
    "> __Let's add to the class ALL the metric performance methods!__"
   ]
  },
  {
   "cell_type": "code",
   "execution_count": 86,
   "metadata": {},
   "outputs": [],
   "source": [
    "import pandas as pd\n",
    "import numpy as np\n",
    "import matplotlib.pyplot as plt\n",
    "plt.style.use(\"seaborn-v0_8\")"
   ]
  },
  {
   "cell_type": "code",
   "execution_count": 87,
   "metadata": {},
   "outputs": [],
   "source": [
    "# Version 2.1 (advanced Performance Reporting)\n",
    "\n",
    "class ConBacktester():\n",
    "    ''' Class for the vectorized backtesting of simple contrarian trading strategies.\n",
    "    \n",
    "    Attributes\n",
    "    ============\n",
    "    filepath: str\n",
    "        local filepath of the dataset (csv-file)\n",
    "    symbol: str\n",
    "        ticker symbol (instrument) to be backtested\n",
    "    start: str\n",
    "        start date for data import\n",
    "    end: str\n",
    "        end date for data import\n",
    "    tc: float\n",
    "        proportional trading costs per trade\n",
    "    \n",
    "    \n",
    "    Methods\n",
    "    =======\n",
    "    get_data:\n",
    "        imports the data.\n",
    "        \n",
    "    test_strategy:\n",
    "        prepares the data and backtests the trading strategy incl. reporting (wrapper).\n",
    "        \n",
    "    prepare_data:\n",
    "        prepares the data for backtesting.\n",
    "    \n",
    "    run_backtest:\n",
    "        runs the strategy backtest.\n",
    "        \n",
    "    plot_results:\n",
    "        plots the cumulative performance of the trading strategy compared to buy-and-hold.\n",
    "        \n",
    "    optimize_strategy:\n",
    "        backtests strategy for different parameter values incl. optimization and reporting (wrapper).\n",
    "    \n",
    "    find_best_strategy:\n",
    "        finds the optimal strategy (global maximum) given the window parameter range.\n",
    "        \n",
    "    visualize_many:\n",
    "        plots parameter values vs. performance. \n",
    "        \n",
    "    print_performance:\n",
    "        calculates and prints various performance metrics.\n",
    "        \n",
    "    '''    \n",
    "    \n",
    "    def __init__(self, filepath, symbol, start, end, tc):\n",
    "        \n",
    "        self.filepath = filepath\n",
    "        self.symbol = symbol\n",
    "        self.start = start\n",
    "        self.end = end\n",
    "        self.tc = tc\n",
    "        self.results = None\n",
    "        self.get_data()\n",
    "        self.tp_year = (self.data.price.count() / ((self.data.index[-1] - self.data.index[0]).days / 365.25)) # NEW\n",
    "        \n",
    "    def __repr__(self):\n",
    "        return \"ConBacktester(symbol = {}, start = {}, end = {})\".format(self.symbol, self.start, self.end)\n",
    "        \n",
    "    def get_data(self):\n",
    "        ''' Imports the data.\n",
    "        '''\n",
    "        raw = pd.read_csv(self.filepath, parse_dates = [\"time\"], index_col = \"time\")\n",
    "        raw = raw[self.symbol].to_frame().fillna(method = \"ffill\")\n",
    "        raw = raw.loc[self.start:self.end].copy()\n",
    "        raw.rename(columns={self.symbol: \"price\"}, inplace=True)\n",
    "        raw[\"returns\"] = np.log(raw.price / raw.price.shift(1))\n",
    "        self.data = raw\n",
    "        \n",
    "    def test_strategy(self, window = 1):\n",
    "        '''\n",
    "        Prepares the data and backtests the trading strategy incl. reporting (Wrapper).\n",
    "         \n",
    "        Parameters\n",
    "        ============\n",
    "        window: int\n",
    "            time window (number of bars) to be considered for the strategy.\n",
    "        '''\n",
    "        self.window = window\n",
    "                                \n",
    "        self.prepare_data(window)\n",
    "        self.run_backtest()\n",
    "        \n",
    "        data = self.results.copy()\n",
    "        data[\"creturns\"] = data[\"returns\"].cumsum().apply(np.exp)\n",
    "        data[\"cstrategy\"] = data[\"strategy\"].cumsum().apply(np.exp)\n",
    "        self.results = data\n",
    "        \n",
    "        #multiple = round(self.results.cstrategy[-1], 6)\n",
    "        #print(\"Strategy-Multiple: {}\".format(multiple))\n",
    "        \n",
    "        self.print_performance() # NEW\n",
    "    \n",
    "    def prepare_data(self, window):\n",
    "        ''' Prepares the Data for Backtesting.\n",
    "        '''\n",
    "        data = self.data.copy()\n",
    "        data[\"roll_return\"] = data[\"returns\"].rolling(window).mean()\n",
    "        data[\"position\"] = -np.sign(data[\"roll_return\"])\n",
    "        self.results = data\n",
    "    \n",
    "    def run_backtest(self):\n",
    "        ''' Runs the strategy backtest.\n",
    "        '''\n",
    "        \n",
    "        data = self.results.copy()\n",
    "        data[\"strategy\"] = data[\"position\"].shift(1) * data[\"returns\"]\n",
    "        data.dropna(inplace=True)\n",
    "        \n",
    "        # determine the number of trades in each bar\n",
    "        data[\"trades\"] = data.position.diff().fillna(0).abs()\n",
    "        \n",
    "        # subtract transaction/trading costs from pre-cost return\n",
    "        data.strategy = data.strategy - data.trades * self.tc\n",
    "        \n",
    "        self.results = data\n",
    "    \n",
    "    def plot_results(self):\n",
    "        '''  Plots the cumulative performance of the trading strategy compared to buy-and-hold.\n",
    "        '''\n",
    "        if self.results is None:\n",
    "            print(\"Run test_strategy() first.\")\n",
    "        else:\n",
    "            title = \"{} | Window = {} | TC = {}\".format(self.symbol, self.window, self.tc)\n",
    "            self.results[[\"creturns\", \"cstrategy\"]].plot(title=title, figsize=(12, 8))\n",
    "            \n",
    "    def optimize_strategy(self, window_range):\n",
    "        '''\n",
    "        Backtests strategy for different parameter values incl. Optimization and Reporting (Wrapper).\n",
    "         \n",
    "        Parameters\n",
    "        ============\n",
    "        window_range: tuple\n",
    "            tuples of the form (start, end, step size).\n",
    "        '''\n",
    "        \n",
    "        windows = range(*window_range)\n",
    "        \n",
    "        performance = []\n",
    "        for window in windows:\n",
    "            self.prepare_data(window)\n",
    "            self.run_backtest()\n",
    "            performance.append(np.exp(self.results.strategy.sum()))\n",
    "    \n",
    "        self.results_overview =  pd.DataFrame(data = np.array(windows), columns = [\"Windows\"])\n",
    "        self.results_overview[\"Performance\"] = performance\n",
    "        self.find_best_strategy()\n",
    "        \n",
    "    def find_best_strategy(self):\n",
    "        ''' Finds the optimal strategy (global maximum) given the window parameter range.\n",
    "        '''\n",
    "        best = self.results_overview.nlargest(1, \"Performance\")\n",
    "        window = best.Windows.iloc[0]\n",
    "        perf = best.Performance.iloc[0]\n",
    "        print(\"Windows: {} | Multiple: {}\".format(window, round(perf, 6)))\n",
    "        self.test_strategy(window)\n",
    "        \n",
    "    def visualize_many(self):\n",
    "        ''' Plots parameter values vs. Performance.\n",
    "        '''\n",
    "\n",
    "        if self.results_overview is None:\n",
    "            print(\"Run optimize_strategy() first.\")\n",
    "        else:\n",
    "            self.results_overview.set_index(\"Windows\", inplace = True)\n",
    "            self.results_overview.plot(figsize = (12, 8))\n",
    "            plt.title(\"Simple Contrarian Strategy | Performance vs Windows\", fontsize = 15)\n",
    "            plt.xlabel(\"Windows\", fontsize = 15)\n",
    "            plt.ylabel(\"Multiple\", fontsize = 15)\n",
    "            plt.show()   \n",
    "            \n",
    "    ############################## Performance ######################################\n",
    "    \n",
    "    def print_performance(self):\n",
    "        ''' Calculates and prints various Performance Metrics.\n",
    "        '''\n",
    "        \n",
    "        data = self.results.copy()\n",
    "        strategy_multiple = round(self.calculate_multiple(data.strategy), 6)        # our strategy multuple\n",
    "        bh_multiple =       round(self.calculate_multiple(data.returns), 6)         # buy and hold strategy multiple\n",
    "        outperf =           round(strategy_multiple - bh_multiple, 6)               # out performance\n",
    "        cagr =              round(self.calculate_cagr(data.strategy), 6)            # Compund annualize growth return\n",
    "        ann_mean =          round(self.calculate_annualized_mean(data.strategy), 6) # annualize mean return \n",
    "        ann_std =           round(self.calculate_annualized_std(data.strategy), 6)  # annualize std (risk)\n",
    "        sharpe =            round(self.calculate_sharpe(data.strategy), 6)          # sharp ratio\n",
    "        sortino =           round(self.calculate_sortino(data.strategy), 6)         # Sortino ratio \n",
    "        max_drawdown =      round(self.calculate_max_drawdown(data.strategy), 6)    # max drawdown\n",
    "        calmar =            round(self.calculate_calmar(data.strategy), 6)          # Calmer ratio\n",
    "        max_dd_duration =   round(self.calculate_max_dd_duration(data.strategy), 6) # max drew down duration\n",
    "        kelly_criterion =   round(self.calculate_kelly_criterion(data.strategy), 6) # Kelly criteriom\n",
    "        \n",
    "        print(100 * \"=\")\n",
    "        print(\"SIMPLE CONTRARIAN STRATEGY | INSTRUMENT = {} | WINDOW = {}\".format(self.symbol, self.window))\n",
    "        print(100 * \"-\")\n",
    "        #print(\"\\n\")\n",
    "        print(\"PERFORMANCE MEASURES:\")\n",
    "        print(\"\\n\")\n",
    "        print(\"Multiple (Strategy):         {}\".format(strategy_multiple))\n",
    "        print(\"Multiple (Buy-and-Hold):     {}\".format(bh_multiple))\n",
    "        print(38 * \"-\")\n",
    "        print(\"Out-/Underperformance:       {}\".format(outperf))\n",
    "        print(\"\\n\")\n",
    "        print(\"CAGR:                        {}\".format(cagr))\n",
    "        print(\"Annualized Mean:             {}\".format(ann_mean))\n",
    "        print(\"Annualized Std:              {}\".format(ann_std))\n",
    "        print(\"Sharpe Ratio:                {}\".format(sharpe))\n",
    "        print(\"Sortino Ratio:               {}\".format(sortino))\n",
    "        print(\"Maximum Drawdown:            {}\".format(max_drawdown))\n",
    "        print(\"Calmar Ratio:                {}\".format(calmar))\n",
    "        print(\"Max Drawdown Duration:       {} Days\".format(max_dd_duration))\n",
    "        print(\"Kelly Criterion:             {}\".format(kelly_criterion))\n",
    "        \n",
    "        print(100 * \"=\")\n",
    "        \n",
    "    def calculate_multiple(self, series):\n",
    "        return np.exp(series.sum())\n",
    "    \n",
    "    def calculate_cagr(self, series):\n",
    "        return np.exp(series.sum())**(1/((series.index[-1] - series.index[0]).days / 365.25)) - 1\n",
    "    \n",
    "    def calculate_annualized_mean(self, series):\n",
    "        return series.mean() * self.tp_year\n",
    "    \n",
    "    def calculate_annualized_std(self, series):\n",
    "        return series.std() * np.sqrt(self.tp_year)\n",
    "    \n",
    "    def calculate_sharpe(self, series):\n",
    "        if series.std() == 0:\n",
    "            return np.nan\n",
    "        else:\n",
    "            return series.mean() / series.std() * np.sqrt(self.tp_year)\n",
    "    \n",
    "    def calculate_sortino(self, series):\n",
    "        excess_returns = (series - 0)\n",
    "        downside_deviation = np.sqrt(np.mean(np.where(excess_returns < 0, excess_returns, 0)**2))\n",
    "        if downside_deviation == 0:\n",
    "            return np.nan\n",
    "        else:\n",
    "            sortino = (series.mean() - 0) / downside_deviation * np.sqrt(self.tp_year)\n",
    "            return sortino \n",
    "    \n",
    "    def calculate_max_drawdown(self, series):\n",
    "        creturns = series.cumsum().apply(np.exp)\n",
    "        cummax = creturns.cummax()\n",
    "        drawdown = (cummax - creturns)/cummax\n",
    "        max_dd = drawdown.max()\n",
    "        return max_dd\n",
    "    \n",
    "    def calculate_calmar(self, series):\n",
    "        max_dd = self.calculate_max_drawdown(series)\n",
    "        if max_dd == 0:\n",
    "            return np.nan\n",
    "        else:\n",
    "            cagr = self.calculate_cagr(series)\n",
    "            calmar = cagr / max_dd\n",
    "            return calmar\n",
    "    \n",
    "    def calculate_max_dd_duration(self, series):\n",
    "        creturns = series.cumsum().apply(np.exp)\n",
    "        cummax = creturns.cummax()\n",
    "        drawdown = (cummax - creturns)/cummax\n",
    "    \n",
    "        begin = drawdown[drawdown == 0].index\n",
    "        end = begin[1:]\n",
    "        end = end.append(pd.DatetimeIndex([drawdown.index[-1]]))\n",
    "        periods = end - begin\n",
    "        max_ddd = periods.max()\n",
    "        return max_ddd.days\n",
    "    \n",
    "    def calculate_kelly_criterion(self, series):\n",
    "        series = np.exp(series) - 1\n",
    "        if series.var() == 0:\n",
    "            return np.nan\n",
    "        else:\n",
    "            return series.mean() / series.var()\n",
    "    \n",
    "    ############################## Performance ######################################"
   ]
  },
  {
   "cell_type": "code",
   "execution_count": 90,
   "metadata": {},
   "outputs": [],
   "source": [
    "symbol = \"EURUSD\"\n",
    "start = \"2018-01-01\"\n",
    "end = \"2019-12-31\"\n",
    "tc = 0.00007"
   ]
  },
  {
   "cell_type": "code",
   "execution_count": 91,
   "metadata": {
    "scrolled": true
   },
   "outputs": [
    {
     "name": "stderr",
     "output_type": "stream",
     "text": [
      "C:\\Users\\97250\\AppData\\Local\\Temp\\ipykernel_29064\\1352727482.py:69: FutureWarning: DataFrame.fillna with 'method' is deprecated and will raise in a future version. Use obj.ffill() or obj.bfill() instead.\n",
      "  raw = raw[self.symbol].to_frame().fillna(method = \"ffill\")\n"
     ]
    },
    {
     "data": {
      "text/plain": [
       "ConBacktester(symbol = EURUSD, start = 2018-01-01, end = 2019-12-31)"
      ]
     },
     "execution_count": 91,
     "metadata": {},
     "output_type": "execute_result"
    }
   ],
   "source": [
    "tester = ConBacktester(filepath= \"../Data/intraday.csv\", symbol = symbol, start = start, end = end, tc = tc)\n",
    "tester"
   ]
  },
  {
   "cell_type": "code",
   "execution_count": 92,
   "metadata": {},
   "outputs": [
    {
     "data": {
      "text/plain": [
       "1038.5542582417581"
      ]
     },
     "execution_count": 92,
     "metadata": {},
     "output_type": "execute_result"
    }
   ],
   "source": [
    "tester.tp_year"
   ]
  },
  {
   "cell_type": "code",
   "execution_count": 93,
   "metadata": {},
   "outputs": [
    {
     "name": "stdout",
     "output_type": "stream",
     "text": [
      "====================================================================================================\n",
      "SIMPLE CONTRARIAN STRATEGY | INSTRUMENT = EURUSD | WINDOW = 51\n",
      "----------------------------------------------------------------------------------------------------\n",
      "PERFORMANCE MEASURES:\n",
      "\n",
      "\n",
      "Multiple (Strategy):         1.262038\n",
      "Multiple (Buy-and-Hold):     0.915401\n",
      "--------------------------------------\n",
      "Out-/Underperformance:       0.346637\n",
      "\n",
      "\n",
      "CAGR:                        0.126996\n",
      "Annualized Mean:             0.119772\n",
      "Annualized Std:              0.059895\n",
      "Sharpe Ratio:                1.999706\n",
      "Sortino Ratio:               3.099553\n",
      "Maximum Drawdown:            0.060965\n",
      "Calmar Ratio:                2.083103\n",
      "Max Drawdown Duration:       93 Days\n",
      "Kelly Criterion:             33.85233\n",
      "====================================================================================================\n"
     ]
    }
   ],
   "source": [
    "# Test the contrarian strategy with window=51 \n",
    "tester.test_strategy(51)\n",
    "\n",
    "# this back testing class, give us a greate prespective for\n",
    "# our algotraid strategy!"
   ]
  },
  {
   "cell_type": "code",
   "execution_count": 94,
   "metadata": {},
   "outputs": [
    {
     "name": "stdout",
     "output_type": "stream",
     "text": [
      "====================================================================================================\n",
      "SIMPLE CONTRARIAN STRATEGY | INSTRUMENT = EURUSD | WINDOW = 1\n",
      "----------------------------------------------------------------------------------------------------\n",
      "PERFORMANCE MEASURES:\n",
      "\n",
      "\n",
      "Multiple (Strategy):         0.963517\n",
      "Multiple (Buy-and-Hold):     0.928172\n",
      "--------------------------------------\n",
      "Out-/Underperformance:       0.035345\n",
      "\n",
      "\n",
      "CAGR:                        -0.018499\n",
      "Annualized Mean:             -0.018664\n",
      "Annualized Std:              0.059123\n",
      "Sharpe Ratio:                -0.315685\n",
      "Sortino Ratio:               -0.462106\n",
      "Maximum Drawdown:            0.078669\n",
      "Calmar Ratio:                -0.235146\n",
      "Max Drawdown Duration:       298 Days\n",
      "Kelly Criterion:             -4.835259\n",
      "====================================================================================================\n"
     ]
    }
   ],
   "source": [
    "# Test the strategy with window=1\n",
    "tester.test_strategy(1)"
   ]
  },
  {
   "cell_type": "code",
   "execution_count": 95,
   "metadata": {},
   "outputs": [
    {
     "data": {
      "text/plain": [
       "-0.3156847471796764"
      ]
     },
     "execution_count": 95,
     "metadata": {},
     "output_type": "execute_result"
    }
   ],
   "source": [
    "# we can also calculate seperedly...\n",
    "tester.calculate_sharpe(tester.results.strategy)"
   ]
  },
  {
   "cell_type": "code",
   "execution_count": 96,
   "metadata": {},
   "outputs": [
    {
     "data": {
      "text/plain": [
       "298"
      ]
     },
     "execution_count": 96,
     "metadata": {},
     "output_type": "execute_result"
    }
   ],
   "source": [
    "tester.calculate_max_dd_duration(tester.results.strategy)"
   ]
  },
  {
   "cell_type": "markdown",
   "metadata": {},
   "source": [
    "---"
   ]
  },
  {
   "cell_type": "markdown",
   "metadata": {},
   "source": [
    "# Putting everything together: Advanced Performance Optimization"
   ]
  },
  {
   "cell_type": "code",
   "execution_count": 97,
   "metadata": {},
   "outputs": [],
   "source": [
    "import pandas as pd\n",
    "import numpy as np\n",
    "import matplotlib.pyplot as plt\n",
    "plt.style.use(\"seaborn-v0_8\")"
   ]
  },
  {
   "cell_type": "code",
   "execution_count": 98,
   "metadata": {},
   "outputs": [],
   "source": [
    "# Version 3.0 (advanced Performance Optimization)\n",
    "\n",
    "class ConBacktester():\n",
    "    ''' Class for the vectorized backtesting of simple contrarian trading strategies.\n",
    "    \n",
    "    Attributes\n",
    "    ============\n",
    "    filepath: str\n",
    "        local filepath of the dataset (csv-file)\n",
    "    symbol: str\n",
    "        ticker symbol (instrument) to be backtested\n",
    "    start: str\n",
    "        start date for data import\n",
    "    end: str\n",
    "        end date for data import\n",
    "    tc: float\n",
    "        proportional trading costs per trade\n",
    "    \n",
    "    \n",
    "    Methods\n",
    "    =======\n",
    "    get_data:\n",
    "        imports the data.\n",
    "        \n",
    "    test_strategy:\n",
    "        prepares the data and backtests the trading strategy incl. reporting (wrapper).\n",
    "        \n",
    "    prepare_data:\n",
    "        prepares the data for backtesting.\n",
    "    \n",
    "    run_backtest:\n",
    "        runs the strategy backtest.\n",
    "        \n",
    "    plot_results:\n",
    "        plots the cumulative performance of the trading strategy compared to buy-and-hold.\n",
    "        \n",
    "    optimize_strategy:\n",
    "        backtests strategy for different parameter values incl. optimization and reporting (wrapper).\n",
    "    \n",
    "    find_best_strategy:\n",
    "        finds the optimal strategy (global maximum) given the window parameter range.\n",
    "        \n",
    "    visualize_many:\n",
    "        plots parameter values vs. performance. \n",
    "        \n",
    "    print_performance:\n",
    "        calculates and prints various performance metrics.\n",
    "        \n",
    "    '''    \n",
    "    \n",
    "    def __init__(self, filepath, symbol, start, end, tc):\n",
    "        \n",
    "        self.filepath = filepath\n",
    "        self.symbol = symbol\n",
    "        self.start = start\n",
    "        self.end = end\n",
    "        self.tc = tc\n",
    "        self.results = None\n",
    "        self.get_data()\n",
    "        self.tp_year = (self.data.price.count() / ((self.data.index[-1] - self.data.index[0]).days / 365.25))\n",
    "        \n",
    "    def __repr__(self):\n",
    "        return \"ConBacktester(symbol = {}, start = {}, end = {})\".format(self.symbol, self.start, self.end)\n",
    "        \n",
    "    def get_data(self):\n",
    "        ''' Imports the data.\n",
    "        '''\n",
    "        raw = pd.read_csv(self.filepath, parse_dates = [\"time\"], index_col = \"time\")\n",
    "        raw = raw[self.symbol].to_frame().fillna(method = \"ffill\")\n",
    "        raw = raw.loc[self.start:self.end].copy()\n",
    "        raw.rename(columns={self.symbol: \"price\"}, inplace=True)\n",
    "        raw[\"returns\"] = np.log(raw.price / raw.price.shift(1))\n",
    "        self.data = raw\n",
    "        \n",
    "    def test_strategy(self, window = 1):\n",
    "        '''\n",
    "        Prepares the data and backtests the trading strategy incl. reporting (Wrapper).\n",
    "         \n",
    "        Parameters\n",
    "        ============\n",
    "        window: int\n",
    "            time window (number of bars) to be considered for the strategy.\n",
    "        '''\n",
    "        self.window = window\n",
    "                                \n",
    "        self.prepare_data(window)\n",
    "        self.run_backtest()\n",
    "        \n",
    "        data = self.results.copy()\n",
    "        data[\"creturns\"] = data[\"returns\"].cumsum().apply(np.exp)\n",
    "        data[\"cstrategy\"] = data[\"strategy\"].cumsum().apply(np.exp)\n",
    "        self.results = data\n",
    "        \n",
    "        self.print_performance()\n",
    "    \n",
    "    def prepare_data(self, window):\n",
    "        ''' Prepares the Data for Backtesting.\n",
    "        '''\n",
    "        data = self.data.copy()\n",
    "        data[\"roll_return\"] = data[\"returns\"].rolling(window).mean()\n",
    "        data[\"position\"] = -np.sign(data[\"roll_return\"])\n",
    "        self.results = data\n",
    "    \n",
    "    def run_backtest(self):\n",
    "        ''' Runs the strategy backtest.\n",
    "        '''\n",
    "        \n",
    "        data = self.results.copy()\n",
    "        data[\"strategy\"] = data[\"position\"].shift(1) * data[\"returns\"]\n",
    "        data.dropna(inplace=True)\n",
    "        \n",
    "        # determine the number of trades in each bar\n",
    "        data[\"trades\"] = data.position.diff().fillna(0).abs()\n",
    "        \n",
    "        # subtract transaction/trading costs from pre-cost return\n",
    "        data.strategy = data.strategy - data.trades * self.tc\n",
    "        \n",
    "        self.results = data\n",
    "    \n",
    "    def plot_results(self):\n",
    "        '''  Plots the cumulative performance of the trading strategy compared to buy-and-hold.\n",
    "        '''\n",
    "        if self.results is None:\n",
    "            print(\"Run test_strategy() first.\")\n",
    "        else:\n",
    "            title = \"{} | Window = {} | TC = {}\".format(self.symbol, self.window, self.tc)\n",
    "            self.results[[\"creturns\", \"cstrategy\"]].plot(title=title, figsize=(12, 8))\n",
    "            \n",
    "    def optimize_strategy(self, window_range, metric = \"Multiple\"):\n",
    "        '''\n",
    "        Backtests strategy for different parameter values incl. Optimization and Reporting (Wrapper).\n",
    "         \n",
    "        Parameters\n",
    "        ============\n",
    "        window_range: tuple\n",
    "            tuples of the form (start, end, step size).\n",
    "        \n",
    "        metric: str\n",
    "            performance metric to be optimized (can be: \"Multiple\", \"Sharpe\", \"Sortino\", \"Calmar\", \"Kelly\")\n",
    "        '''\n",
    "        \n",
    "        self.metric = metric\n",
    "        \n",
    "        # NEW!!!\n",
    "        if metric == \"Multiple\":\n",
    "            performance_function = self.calculate_multiple\n",
    "        elif metric == \"Sharpe\":\n",
    "            performance_function = self.calculate_sharpe\n",
    "        elif metric == \"Sortino\":\n",
    "            performance_function = self.calculate_sortino\n",
    "        elif metric == \"Calmar\": \n",
    "            performance_function = self.calculate_calmar\n",
    "        elif metric == \"Kelly\": \n",
    "            performance_function = self.calculate_kelly_criterion\n",
    "        \n",
    "        windows = range(*window_range)\n",
    "        \n",
    "        performance = []\n",
    "        for window in windows:\n",
    "            self.prepare_data(window)\n",
    "            self.run_backtest()\n",
    "            performance.append(performance_function(self.results.strategy))\n",
    "    \n",
    "        self.results_overview =  pd.DataFrame(data = np.array(windows), columns = [\"Windows\"])\n",
    "        self.results_overview[\"Performance\"] = performance\n",
    "        self.find_best_strategy()\n",
    "        \n",
    "    def find_best_strategy(self):\n",
    "        ''' Finds the optimal strategy (global maximum) given the window parameter range.\n",
    "        '''\n",
    "        best = self.results_overview.nlargest(1, \"Performance\")\n",
    "        window = best.Windows.iloc[0]\n",
    "        perf = best.Performance.iloc[0]\n",
    "        print(\"Windows: {} | {}: {}\".format(window, self.metric, round(perf, 6))) # updated\n",
    "        self.test_strategy(window)\n",
    "        \n",
    "    def visualize_many(self):\n",
    "        ''' Plots parameter values vs. Performance.\n",
    "        '''\n",
    "\n",
    "        if self.results_overview is None:\n",
    "            print(\"Run optimize_strategy() first.\")\n",
    "        else:\n",
    "            self.results_overview.set_index(\"Windows\", inplace = True)\n",
    "            self.results_overview.plot(figsize = (12, 8))\n",
    "            plt.title(\"Simple Contrarian Strategy | {} vs Windows\".format(self.metric), fontsize = 15) # updated\n",
    "            plt.xlabel(\"Windows\", fontsize = 15)\n",
    "            plt.ylabel(\"{}\".format(self.metric), fontsize = 15) # updated\n",
    "            plt.show()   \n",
    "            \n",
    "    ############################## Performance ######################################\n",
    "    \n",
    "    def print_performance(self):\n",
    "        ''' Calculates and prints various Performance Metrics.\n",
    "        '''\n",
    "        \n",
    "        data = self.results.copy()\n",
    "        strategy_multiple = round(self.calculate_multiple(data.strategy), 6)\n",
    "        bh_multiple =       round(self.calculate_multiple(data.returns), 6)\n",
    "        outperf =           round(strategy_multiple - bh_multiple, 6)\n",
    "        cagr =              round(self.calculate_cagr(data.strategy), 6)\n",
    "        ann_mean =          round(self.calculate_annualized_mean(data.strategy), 6)\n",
    "        ann_std =           round(self.calculate_annualized_std(data.strategy), 6)\n",
    "        sharpe =            round(self.calculate_sharpe(data.strategy), 6)\n",
    "        sortino =           round(self.calculate_sortino(data.strategy), 6)\n",
    "        max_drawdown =      round(self.calculate_max_drawdown(data.strategy), 6)\n",
    "        calmar =            round(self.calculate_calmar(data.strategy), 6)\n",
    "        max_dd_duration =   round(self.calculate_max_dd_duration(data.strategy), 6)\n",
    "        kelly_criterion =   round(self.calculate_kelly_criterion(data.strategy), 6)\n",
    "        \n",
    "        print(100 * \"=\")\n",
    "        print(\"SIMPLE CONTRARIAN STRATEGY | INSTRUMENT = {} | WINDOW = {}\".format(self.symbol, self.window))\n",
    "        print(100 * \"-\")\n",
    "        #print(\"\\n\")\n",
    "        print(\"PERFORMANCE MEASURES:\")\n",
    "        print(\"\\n\")\n",
    "        print(\"Multiple (Strategy):         {}\".format(strategy_multiple))\n",
    "        print(\"Multiple (Buy-and-Hold):     {}\".format(bh_multiple))\n",
    "        print(38 * \"-\")\n",
    "        print(\"Out-/Underperformance:       {}\".format(outperf))\n",
    "        print(\"\\n\")\n",
    "        print(\"CAGR:                        {}\".format(cagr))\n",
    "        print(\"Annualized Mean:             {}\".format(ann_mean))\n",
    "        print(\"Annualized Std:              {}\".format(ann_std))\n",
    "        print(\"Sharpe Ratio:                {}\".format(sharpe))\n",
    "        print(\"Sortino Ratio:               {}\".format(sortino))\n",
    "        print(\"Maximum Drawdown:            {}\".format(max_drawdown))\n",
    "        print(\"Calmar Ratio:                {}\".format(calmar))\n",
    "        print(\"Max Drawdown Duration:       {} Days\".format(max_dd_duration))\n",
    "        print(\"Kelly Criterion:             {}\".format(kelly_criterion))\n",
    "        \n",
    "        print(100 * \"=\")\n",
    "        \n",
    "    def calculate_multiple(self, series):\n",
    "        return np.exp(series.sum())\n",
    "    \n",
    "    def calculate_cagr(self, series):\n",
    "        return np.exp(series.sum())**(1/((series.index[-1] - series.index[0]).days / 365.25)) - 1\n",
    "    \n",
    "    def calculate_annualized_mean(self, series):\n",
    "        return series.mean() * self.tp_year\n",
    "    \n",
    "    def calculate_annualized_std(self, series):\n",
    "        return series.std() * np.sqrt(self.tp_year)\n",
    "    \n",
    "    def calculate_sharpe(self, series):\n",
    "        if series.std() == 0:\n",
    "            return np.nan\n",
    "        else:\n",
    "            return series.mean() / series.std() * np.sqrt(self.tp_year)\n",
    "    \n",
    "    def calculate_sortino(self, series):\n",
    "        excess_returns = (series - 0)\n",
    "        downside_deviation = np.sqrt(np.mean(np.where(excess_returns < 0, excess_returns, 0)**2))\n",
    "        if downside_deviation == 0:\n",
    "            return np.nan\n",
    "        else:\n",
    "            sortino = (series.mean() - 0) / downside_deviation * np.sqrt(self.tp_year)\n",
    "            return sortino \n",
    "    \n",
    "    def calculate_max_drawdown(self, series):\n",
    "        creturns = series.cumsum().apply(np.exp)\n",
    "        cummax = creturns.cummax()\n",
    "        drawdown = (cummax - creturns)/cummax\n",
    "        max_dd = drawdown.max()\n",
    "        return max_dd\n",
    "    \n",
    "    def calculate_calmar(self, series):\n",
    "        max_dd = self.calculate_max_drawdown(series)\n",
    "        if max_dd == 0:\n",
    "            return np.nan\n",
    "        else:\n",
    "            cagr = self.calculate_cagr(series)\n",
    "            calmar = cagr / max_dd\n",
    "            return calmar\n",
    "    \n",
    "    def calculate_max_dd_duration(self, series):\n",
    "        creturns = series.cumsum().apply(np.exp)\n",
    "        cummax = creturns.cummax()\n",
    "        drawdown = (cummax - creturns)/cummax\n",
    "    \n",
    "        begin = drawdown[drawdown == 0].index\n",
    "        end = begin[1:]\n",
    "        end = end.append(pd.DatetimeIndex([drawdown.index[-1]]))\n",
    "        periods = end - begin\n",
    "        max_ddd = periods.max()\n",
    "        return max_ddd.days\n",
    "    \n",
    "    def calculate_kelly_criterion(self, series):\n",
    "        series = np.exp(series) - 1\n",
    "        if series.var() == 0:\n",
    "            return np.nan\n",
    "        else:\n",
    "            return series.mean() / series.var()\n",
    "    \n",
    "    ############################## Performance ######################################"
   ]
  },
  {
   "cell_type": "code",
   "execution_count": 99,
   "metadata": {},
   "outputs": [],
   "source": [
    "symbol = \"EURUSD\"\n",
    "start = \"2018-01-01\"\n",
    "end = \"2019-12-31\"\n",
    "tc = 0.00007"
   ]
  },
  {
   "cell_type": "code",
   "execution_count": 104,
   "metadata": {
    "scrolled": true
   },
   "outputs": [
    {
     "name": "stderr",
     "output_type": "stream",
     "text": [
      "C:\\Users\\97250\\AppData\\Local\\Temp\\ipykernel_29064\\3058241510.py:69: FutureWarning: DataFrame.fillna with 'method' is deprecated and will raise in a future version. Use obj.ffill() or obj.bfill() instead.\n",
      "  raw = raw[self.symbol].to_frame().fillna(method = \"ffill\")\n"
     ]
    },
    {
     "data": {
      "text/plain": [
       "ConBacktester(symbol = EURUSD, start = 2018-01-01, end = 2019-12-31)"
      ]
     },
     "execution_count": 104,
     "metadata": {},
     "output_type": "execute_result"
    }
   ],
   "source": [
    "tester = ConBacktester(filepath= \"../Data/intraday.csv\", symbol = symbol, start = start, end = end, tc = tc)\n",
    "tester"
   ]
  },
  {
   "cell_type": "code",
   "execution_count": 105,
   "metadata": {},
   "outputs": [
    {
     "name": "stdout",
     "output_type": "stream",
     "text": [
      "Windows: 44 | Calmar: 2.186323\n",
      "====================================================================================================\n",
      "SIMPLE CONTRARIAN STRATEGY | INSTRUMENT = EURUSD | WINDOW = 44\n",
      "----------------------------------------------------------------------------------------------------\n",
      "PERFORMANCE MEASURES:\n",
      "\n",
      "\n",
      "Multiple (Strategy):         1.260746\n",
      "Multiple (Buy-and-Hold):     0.913293\n",
      "--------------------------------------\n",
      "Out-/Underperformance:       0.347453\n",
      "\n",
      "\n",
      "CAGR:                        0.126214\n",
      "Annualized Mean:             0.118833\n",
      "Annualized Std:              0.059942\n",
      "Sharpe Ratio:                1.982458\n",
      "Sortino Ratio:               3.058787\n",
      "Maximum Drawdown:            0.057729\n",
      "Calmar Ratio:                2.186323\n",
      "Max Drawdown Duration:       81 Days\n",
      "Kelly Criterion:             33.540501\n",
      "====================================================================================================\n"
     ]
    }
   ],
   "source": [
    "# Optimizer the strategy:\n",
    "# (1, 1001, 1) the range of windows we want to test\n",
    "# metric --> What we want to optimizer? \n",
    "#            in that case we want to find the window parameter that gives\n",
    "#            the optimal Calmar ratio. \n",
    "tester.optimize_strategy((1, 1001, 1), metric= \"Calmar\")"
   ]
  },
  {
   "cell_type": "code",
   "execution_count": 106,
   "metadata": {},
   "outputs": [
    {
     "data": {
      "image/png": "[encoded data removed]",
      "text/plain": [
       "<Figure size 1200x800 with 1 Axes>"
      ]
     },
     "metadata": {},
     "output_type": "display_data"
    }
   ],
   "source": [
    "tester.plot_results()"
   ]
  },
  {
   "cell_type": "code",
   "execution_count": 107,
   "metadata": {},
   "outputs": [
    {
     "data": {
      "image/png": "[encoded data removed]",
      "text/plain": [
       "<Figure size 1200x800 with 1 Axes>"
      ]
     },
     "metadata": {},
     "output_type": "display_data"
    }
   ],
   "source": [
    "tester.visualize_many()"
   ]
  },
  {
   "cell_type": "code",
   "execution_count": 108,
   "metadata": {},
   "outputs": [
    {
     "data": {
      "text/html": [
       "<div>\n",
       "<style scoped>\n",
       "    .dataframe tbody tr th:only-of-type {\n",
       "        vertical-align: middle;\n",
       "    }\n",
       "\n",
       "    .dataframe tbody tr th {\n",
       "        vertical-align: top;\n",
       "    }\n",
       "\n",
       "    .dataframe thead th {\n",
       "        text-align: right;\n",
       "    }\n",
       "</style>\n",
       "<table border=\"1\" class=\"dataframe\">\n",
       "  <thead>\n",
       "    <tr style=\"text-align: right;\">\n",
       "      <th></th>\n",
       "      <th>Performance</th>\n",
       "    </tr>\n",
       "    <tr>\n",
       "      <th>Windows</th>\n",
       "      <th></th>\n",
       "    </tr>\n",
       "  </thead>\n",
       "  <tbody>\n",
       "    <tr>\n",
       "      <th>44</th>\n",
       "      <td>2.186323</td>\n",
       "    </tr>\n",
       "    <tr>\n",
       "      <th>51</th>\n",
       "      <td>2.083103</td>\n",
       "    </tr>\n",
       "    <tr>\n",
       "      <th>53</th>\n",
       "      <td>1.975612</td>\n",
       "    </tr>\n",
       "    <tr>\n",
       "      <th>54</th>\n",
       "      <td>1.968403</td>\n",
       "    </tr>\n",
       "    <tr>\n",
       "      <th>50</th>\n",
       "      <td>1.876354</td>\n",
       "    </tr>\n",
       "    <tr>\n",
       "      <th>...</th>\n",
       "      <td>...</td>\n",
       "    </tr>\n",
       "    <tr>\n",
       "      <th>255</th>\n",
       "      <td>-0.530364</td>\n",
       "    </tr>\n",
       "    <tr>\n",
       "      <th>372</th>\n",
       "      <td>-0.539225</td>\n",
       "    </tr>\n",
       "    <tr>\n",
       "      <th>377</th>\n",
       "      <td>-0.546797</td>\n",
       "    </tr>\n",
       "    <tr>\n",
       "      <th>376</th>\n",
       "      <td>-0.563188</td>\n",
       "    </tr>\n",
       "    <tr>\n",
       "      <th>378</th>\n",
       "      <td>-0.600747</td>\n",
       "    </tr>\n",
       "  </tbody>\n",
       "</table>\n",
       "<p>1000 rows × 1 columns</p>\n",
       "</div>"
      ],
      "text/plain": [
       "         Performance\n",
       "Windows             \n",
       "44          2.186323\n",
       "51          2.083103\n",
       "53          1.975612\n",
       "54          1.968403\n",
       "50          1.876354\n",
       "...              ...\n",
       "255        -0.530364\n",
       "372        -0.539225\n",
       "377        -0.546797\n",
       "376        -0.563188\n",
       "378        -0.600747\n",
       "\n",
       "[1000 rows x 1 columns]"
      ]
     },
     "execution_count": 108,
     "metadata": {},
     "output_type": "execute_result"
    }
   ],
   "source": [
    "tester.results_overview.sort_values(by = \"Performance\", ascending = False)"
   ]
  }
 ],
 "metadata": {
  "kernelspec": {
   "display_name": "Python 3 (ipykernel)",
   "language": "python",
   "name": "python3"
  },
  "language_info": {
   "codemirror_mode": {
    "name": "ipython",
    "version": 3
   },
   "file_extension": ".py",
   "mimetype": "text/x-python",
   "name": "python",
   "nbconvert_exporter": "python",
   "pygments_lexer": "ipython3",
   "version": "3.11.3"
  }
 },
 "nbformat": 4,
 "nbformat_minor": 4
}
